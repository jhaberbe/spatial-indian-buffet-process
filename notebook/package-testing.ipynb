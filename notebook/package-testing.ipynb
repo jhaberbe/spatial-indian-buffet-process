{
 "cells": [
  {
   "cell_type": "code",
   "execution_count": null,
   "id": "1f90c6dd",
   "metadata": {},
   "outputs": [
    {
     "name": "stderr",
     "output_type": "stream",
     "text": [
      "/home/jhaberbe/Projects/spatial-indian-buffet-process/.venv/lib/python3.13/site-packages/tqdm/auto.py:21: TqdmWarning: IProgress not found. Please update jupyter and ipywidgets. See https://ipywidgets.readthedocs.io/en/stable/user_install.html\n",
      "  from .autonotebook import tqdm as notebook_tqdm\n",
      "/home/jhaberbe/Projects/spatial-indian-buffet-process/.venv/lib/python3.13/site-packages/anndata/_core/anndata.py:1756: UserWarning: Observation names are not unique. To make them unique, call `.obs_names_make_unique`.\n",
      "  utils.warn_names_duplicates(\"obs\")\n"
     ]
    }
   ],
   "source": [
    "import pyro\n",
    "import torch\n",
    "import gpytorch\n",
    "import scanpy as sc\n",
    "\n",
    "adata = sc.read_h5ad(\"/home/jhaberbe/Projects/spatial-indian-buffet-process/data/16APR2025.h5ad\")\n",
    "adata = adata[adata.obs[\"cell_type\"].eq(\"Astrocyte\") & adata.obs[\"folder\"].eq(\"99-15\")]"
   ]
  },
  {
   "cell_type": "code",
   "execution_count": 2,
   "id": "17cd2066",
   "metadata": {},
   "outputs": [],
   "source": [
    "import torch\n",
    "import numpy as np\n",
    "import pandas as pd\n",
    "\n",
    "# Set device\n",
    "device = torch.device(\"cuda\" if torch.cuda.is_available() else \"cpu\")\n",
    "if device == \"cuda\":\n",
    "    print(\"CUDA Enabled\")\n",
    "\n",
    "def setup_torch_data(adata, specimen_name: str = \"folder\"):\n",
    "    X = torch.tensor(adata[:, (adata.X > 0).mean(axis=0) > 0.05].layers[\"transcript\"])\n",
    "    size_factor = torch.tensor(np.log((adata.X.sum(axis=1) / adata.X.sum(axis=1).mean())))\n",
    "    folder = torch.tensor(pd.Categorical(adata.obs[specimen_name]).codes).float()\n",
    "    return X, size_factor, folder\n",
    "\n",
    "X, size_factor, folder = setup_torch_data(adata, specimen_name=\"folder\")\n",
    "\n",
    "X = X.to(device)\n",
    "size_factor = size_factor.to(device)\n",
    "folder = folder.to(device)\n",
    "locs = torch.tensor(adata.obs[[\"x_centroid\", \"y_centroid\"]].values).to(device)\n",
    "group_assignments = torch.zeros(X.shape[0])"
   ]
  },
  {
   "cell_type": "code",
   "execution_count": 3,
   "id": "3feb0b3b",
   "metadata": {},
   "outputs": [],
   "source": [
    "import sys\n",
    "sys.path.append(\"..\")"
   ]
  },
  {
   "cell_type": "code",
   "execution_count": 4,
   "id": "0cf83b16",
   "metadata": {},
   "outputs": [
    {
     "data": {
      "text/plain": [
       "<module 'src.model' from '/home/jhaberbe/Projects/spatial-indian-buffet-process/notebook/../src/model.py'>"
      ]
     },
     "execution_count": 4,
     "metadata": {},
     "output_type": "execute_result"
    }
   ],
   "source": [
    "import importlib\n",
    "\n",
    "import src.model\n",
    "importlib.reload(src.model)"
   ]
  },
  {
   "cell_type": "code",
   "execution_count": 5,
   "id": "b479cacc",
   "metadata": {},
   "outputs": [],
   "source": [
    "sibp = src.model.SpatialIndianBuffetProcess(adata=adata[:, (adata.X > 0).mean(axis=0) > 0.05], length_scale=400)"
   ]
  },
  {
   "cell_type": "code",
   "execution_count": null,
   "id": "70f6c8ac",
   "metadata": {},
   "outputs": [
    {
     "name": "stdout",
     "output_type": "stream",
     "text": [
      "[10300] ELBO loss: 830158.88\n"
     ]
    }
   ],
   "source": [
    "sibp.fit(\n",
    "    coordinates = locs,\n",
    "    count_matrix = X,\n",
    "    group_assignments = folder,\n",
    "    num_steps = 60_000,\n",
    "    wandb_kwargs = {\n",
    "        \"project\": \"sibp\",\n",
    "        \"name\": \"kanna-chameleon\"\n",
    "    }\n",
    ")"
   ]
  },
  {
   "cell_type": "code",
   "execution_count": null,
   "id": "8df9d62e",
   "metadata": {},
   "outputs": [
    {
     "ename": "NameError",
     "evalue": "name 'self' is not defined",
     "output_type": "error",
     "traceback": [
      "\u001b[31m---------------------------------------------------------------------------\u001b[39m",
      "\u001b[31mNameError\u001b[39m                                 Traceback (most recent call last)",
      "\u001b[36mCell\u001b[39m\u001b[36m \u001b[39m\u001b[32mIn[8]\u001b[39m\u001b[32m, line 2\u001b[39m\n\u001b[32m      1\u001b[39m latent_features = sibp.return_latent_features()\n\u001b[32m----> \u001b[39m\u001b[32m2\u001b[39m return_latent_feature_weights = \u001b[43msibp\u001b[49m\u001b[43m.\u001b[49m\u001b[43mreturn_latent_feature_weights\u001b[49m\u001b[43m(\u001b[49m\u001b[43m)\u001b[49m\n",
      "\u001b[36mFile \u001b[39m\u001b[32m~/Projects/spatial-indian-buffet-process/notebook/../src/model.py:220\u001b[39m, in \u001b[36mSpatialIndianBuffetProcess.return_latent_feature_weights\u001b[39m\u001b[34m()\u001b[39m\n\u001b[32m    216\u001b[39m \u001b[38;5;129m@staticmethod\u001b[39m\n\u001b[32m    217\u001b[39m \u001b[38;5;28;01mdef\u001b[39;00m\u001b[38;5;250m \u001b[39m\u001b[34mreturn_latent_feature_weights\u001b[39m():\n\u001b[32m    218\u001b[39m     weights = pd.DataFrame(\n\u001b[32m    219\u001b[39m         \u001b[38;5;28mdict\u001b[39m(pyro.get_param_store())[\u001b[33m\"\u001b[39m\u001b[33mW_loc\u001b[39m\u001b[33m\"\u001b[39m].cpu().detach().numpy(),\n\u001b[32m--> \u001b[39m\u001b[32m220\u001b[39m         columns = \u001b[38;5;28;43mself\u001b[39;49m.feature_names\n\u001b[32m    221\u001b[39m     ).T\n\u001b[32m    222\u001b[39m     \u001b[38;5;28;01mreturn\u001b[39;00m weights\n",
      "\u001b[31mNameError\u001b[39m: name 'self' is not defined"
     ]
    }
   ],
   "source": [
    "latent_features = sibp.return_latent_features()\n",
    "return_latent_feature_weights = sibp.return_latent_feature_weights()"
   ]
  },
  {
   "cell_type": "code",
   "execution_count": null,
   "id": "bcf983ff",
   "metadata": {},
   "outputs": [],
   "source": []
  }
 ],
 "metadata": {
  "kernelspec": {
   "display_name": ".venv",
   "language": "python",
   "name": "python3"
  },
  "language_info": {
   "codemirror_mode": {
    "name": "ipython",
    "version": 3
   },
   "file_extension": ".py",
   "mimetype": "text/x-python",
   "name": "python",
   "nbconvert_exporter": "python",
   "pygments_lexer": "ipython3",
   "version": "3.13.3"
  }
 },
 "nbformat": 4,
 "nbformat_minor": 5
}
