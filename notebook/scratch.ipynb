{
 "cells": [
  {
   "cell_type": "code",
   "execution_count": 3,
   "id": "7421e498",
   "metadata": {},
   "outputs": [
    {
     "name": "stderr",
     "output_type": "stream",
     "text": [
      "/home/jhaberbe/Projects/spatial-indian-buffet-process/.venv/lib/python3.13/site-packages/anndata/_core/anndata.py:1756: UserWarning: Observation names are not unique. To make them unique, call `.obs_names_make_unique`.\n",
      "  utils.warn_names_duplicates(\"obs\")\n"
     ]
    }
   ],
   "source": [
    "import scanpy as sc\n",
    "\n",
    "adata = sc.read_h5ad(\"/home/jhaberbe/Projects/indian-buffet-process/data/16APR2025.h5ad\")\n",
    "adata = adata[adata.obs[\"cell_type\"].eq(\"Microglia-PVM\") & adata.obs[\"folder\"].eq(\"99-15\")]"
   ]
  },
  {
   "cell_type": "code",
   "execution_count": 4,
   "id": "c3dd3ff9",
   "metadata": {},
   "outputs": [],
   "source": [
    "import torch\n",
    "import numpy as np\n",
    "import pandas as pd\n",
    "\n",
    "# Set device\n",
    "device = torch.device(\"cuda\" if torch.cuda.is_available() else \"cpu\")\n",
    "if device == \"cuda\":\n",
    "    print(\"CUDA Enabled\")\n",
    "\n",
    "def setup_torch_data(adata, specimen_name: str = \"folder\"):\n",
    "    X = torch.tensor(adata[:, (adata.X > 0).mean(axis=0) > 0.05].layers[\"transcript\"])\n",
    "    size_factor = torch.tensor(np.log((adata.X.sum(axis=1) / adata.X.sum(axis=1).mean())))\n",
    "    folder = torch.tensor(pd.Categorical(adata.obs[specimen_name]).codes).float()\n",
    "    return X, size_factor, folder\n",
    "\n",
    "X, size_factor, folder = setup_torch_data(adata, specimen_name=\"folder\")\n",
    "\n",
    "X = X.to(device)\n",
    "size_factor = size_factor.to(device)\n",
    "folder = folder.to(device)\n",
    "locs = torch.tensor(adata.obs[[\"x_centroid\", \"y_centroid\"]].values).to(device)"
   ]
  },
  {
   "cell_type": "code",
   "execution_count": null,
   "id": "8932e5cd",
   "metadata": {},
   "outputs": [],
   "source": [
    "def b_k(logits):\n",
    "    v = torch.sigmoid(logits)  # [K]\n",
    "    cumprod_1mv = torch.cumprod(1 - v, dim=0)\n",
    "    cumprod_1mv = torch.cat([torch.ones(1, device=v.device), cumprod_1mv[:-1]])\n",
    "    pi = v * cumprod_1mv\n",
    "    return pi\n"
   ]
  },
  {
   "cell_type": "code",
   "execution_count": null,
   "id": "6c4275bc",
   "metadata": {},
   "outputs": [],
   "source": [
    "b_k(test)"
   ]
  },
  {
   "cell_type": "code",
   "execution_count": null,
   "id": "64dbdeb2",
   "metadata": {},
   "outputs": [
    {
     "data": {
      "text/plain": [
       "tensor([1.9159e-01, 3.9428e-02, 7.8089e-03, 7.9875e-03, 2.5879e-03, 1.5741e-03,\n",
       "        4.7941e-04, 3.3420e-04, 2.9288e-04, 1.4949e-04])"
      ]
     },
     "execution_count": 30,
     "metadata": {},
     "output_type": "execute_result"
    }
   ],
   "source": []
  },
  {
   "cell_type": "code",
   "execution_count": null,
   "id": "1209b6ba",
   "metadata": {},
   "outputs": [
    {
     "data": {
      "text/plain": [
       "tensor([0.7417, 0.8120, 0.2014, 0.7098, 0.3585, 0.6788, 0.2920, 0.2845, 0.4737,\n",
       "        0.5906])"
      ]
     },
     "execution_count": 29,
     "metadata": {},
     "output_type": "execute_result"
    }
   ],
   "source": []
  },
  {
   "cell_type": "code",
   "execution_count": null,
   "id": "c5d58afe",
   "metadata": {},
   "outputs": [
    {
     "data": {
      "text/plain": [
       "<BarContainer object of 10 artists>"
      ]
     },
     "execution_count": 31,
     "metadata": {},
     "output_type": "execute_result"
    },
    {
     "data": {
      "image/png": "[encoded data removed]",
      "text/plain": [
       "<Figure size 640x480 with 1 Axes>"
      ]
     },
     "metadata": {},
     "output_type": "display_data"
    }
   ],
   "source": [
    "import matplotlib.pyplot as plt\n",
    "plt.bar(\n",
    "    range(10),\n",
    "    \n",
    ")"
   ]
  },
  {
   "cell_type": "code",
   "execution_count": null,
   "id": "412cc5c9",
   "metadata": {},
   "outputs": [],
   "source": [
    "import torch\n",
    "import pyro\n",
    "import pyro.distributions as dist\n",
    "from pyro.infer import SVI, Trace_ELBO, JitTraceMeanField_ELBO, JitTrace_ELBO\n",
    "from pyro.optim import ClippedAdam\n",
    "from gpytorch.kernels import MaternKernel\n",
    "\n",
    "def model(s, y, folder_ids, size_factors, num_folders, K=10):\n",
    "    \"\"\"Pyro model with explicit device handling.\"\"\"\n",
    "    # 1. Get device from inputs and validate\n",
    "    device = s.device\n",
    "    assert y.device == device, f\"y is on {y.device} but should be on {device}\"\n",
    "    assert folder_ids.device == device, f\"folder_ids on {folder_ids.device}\"\n",
    "    assert size_factors.device == device, f\"size_factors on {size_factors.device}\"\n",
    "    \n",
    "    N, D = s.shape\n",
    "    G = y.shape[1]\n",
    "\n",
    "    # 2. Hyperparameters (explicit device)\n",
    "    hyper_params = {\n",
    "        'tau_scale': torch.tensor(2.0, device=device),\n",
    "        'tau_rate': torch.tensor(2.0, device=device),\n",
    "        'phi_scale': torch.tensor(2.0, device=device),\n",
    "        'phi_rate': torch.tensor(2.0, device=device),\n",
    "        'mu_scale': torch.tensor(2.0, device=device),\n",
    "        'mu_rate': torch.tensor(2.0, device=device),\n",
    "        'r_concentration': torch.tensor(2.0, device=device),\n",
    "        'r_rate': torch.tensor(1.0, device=device)\n",
    "    }\n",
    "\n",
    "    # 3. Sample global parameters\n",
    "    tau = pyro.sample(\"tau\", dist.Gamma(hyper_params['tau_scale'], hyper_params['tau_rate']).expand([1]))\n",
    "    phi = pyro.sample(\"phi\", dist.Gamma(hyper_params['phi_scale'], hyper_params['phi_rate']).expand([1]))\n",
    "    mu = pyro.sample(\"mu\", dist.Gamma(hyper_params['mu_scale'], hyper_params['mu_rate']).expand([1]))\n",
    "\n",
    "    # 4. GP kernel (ensure kernel is on device)\n",
    "    kernel = MaternKernel(nu=2.5, ard_num_dims=D).to(device)\n",
    "    kernel.lengthscale = phi\n",
    "\n",
    "    # 5. Latent GP values\n",
    "    # Latent GP values - corrected implementation\n",
    "    cov = kernel(s).evaluate() * (1 / tau)\n",
    "    with pyro.plate(\"features\", K):\n",
    "        # Use Independent to properly handle batch dimensions\n",
    "        f_k = pyro.sample(\n",
    "            \"f_k\",\n",
    "            dist.MultivariateNormal(\n",
    "                mu * torch.ones(N, device=device),\n",
    "                covariance_matrix=cov\n",
    "            )\n",
    "        )\n",
    "\n",
    "\n",
    "    # 6. Stick-breaking (verify b_k handles devices)\n",
    "    pi = b_k(f_k.T.to(device))  # Explicit device\n",
    "\n",
    "    # 7. Feature activations\n",
    "    with pyro.plate(\"data\", N):\n",
    "        z = pyro.sample(\"z\", dist.Bernoulli(pi).to_event(1))\n",
    "\n",
    "    # 8. Global weights\n",
    "    W = pyro.sample(\"W\", dist.Normal(\n",
    "        torch.zeros(K, G, device=device),\n",
    "        torch.ones(K, G, device=device)\n",
    "    ).to_event(2))\n",
    "\n",
    "    # 9. Folder terms\n",
    "    with pyro.plate(\"folders\", num_folders):\n",
    "        folder_logits = pyro.sample(\"folder_logits\", dist.Normal(\n",
    "            torch.zeros(num_folders, G, device=device),\n",
    "            torch.ones(num_folders, G, device=device)\n",
    "        ).to_event(2))\n",
    "\n",
    "    # 10. Dispersion\n",
    "    r = pyro.sample(\"r\", dist.Gamma(\n",
    "        hyper_params['r_concentration'],\n",
    "        hyper_params['r_rate']\n",
    "    ).expand([G]).to_event(1))\n",
    "\n",
    "    # 11. Logits computation (triple-check devices)\n",
    "    linear_term = z @ W\n",
    "    folder_term = folder_logits[folder_ids.to(device).long()]  # Force device and type\n",
    "    size_term = (size_factors.to(device) + 1e-6).unsqueeze(-1)\n",
    "\n",
    "    # # Add this right before your NegativeBinomial sampling\n",
    "    # print(\"NaN check:\")\n",
    "    # print(f\"linear_term: {torch.isnan(linear_term).any().item()}\")\n",
    "    # print(f\"folder_term: {torch.isnan(folder_term).any().item()}\")\n",
    "    # print(f\"size_term: {torch.isnan(size_term).any().item()}\")\n",
    "    \n",
    "    # print(f\"r: {torch.isnan(r).any().item()}\")\n",
    "\n",
    "    logits = linear_term + folder_term + size_term\n",
    "    logits = torch.clamp(logits, -20, 20)  # Additional safety\n",
    "\n",
    "    # 12. Final likelihood with validation\n",
    "    pyro.sample(\"obs\", dist.NegativeBinomial(\n",
    "        total_count=r,\n",
    "        logits=logits\n",
    "    ).to_event(2), obs=y.to(device))  # Final safety"
   ]
  },
  {
   "cell_type": "code",
   "execution_count": 36,
   "id": "36d18f35",
   "metadata": {},
   "outputs": [],
   "source": [
    "import pyro\n",
    "import pyro.distributions as dist\n",
    "import torch\n",
    "import torch.nn.functional as F\n",
    "\n",
    "def guide(s, y, folder_ids, size_factors, num_folders, K=10):\n",
    "    device = s.device\n",
    "    N, D = s.shape\n",
    "    G = y.shape[1]\n",
    "\n",
    "    with pyro.plate(\"features\", K):\n",
    "        f_k_loc = pyro.param(\"f_k_loc\", torch.randn(K, N, device=device))\n",
    "        pyro.sample(\n",
    "            \"f_k\",\n",
    "            dist.Normal(f_k_loc, 1).to_event(1)  # Using Normal instead of Delta\n",
    "        )\n",
    "\n",
    "    # 1. Variational distributions for GP hyperparameters\n",
    "    # tau ~ Gamma(concentration, rate)\n",
    "    tau_concentration = pyro.param(\n",
    "        \"tau_concentration\", \n",
    "        torch.tensor(2.0, device=device), \n",
    "        constraint=dist.constraints.positive\n",
    "    )\n",
    "    tau_rate = pyro.param(\n",
    "        \"tau_rate\", \n",
    "        torch.tensor(2.0, device=device), \n",
    "        constraint=dist.constraints.positive\n",
    "    )\n",
    "    pyro.sample(\"tau\", dist.Gamma(tau_concentration, tau_rate))\n",
    "\n",
    "    # phi ~ Gamma(concentration, rate)\n",
    "    phi_concentration = pyro.param(\n",
    "        \"phi_concentration\", \n",
    "        torch.tensor(2.0, device=device), \n",
    "        constraint=dist.constraints.positive\n",
    "    )\n",
    "    phi_rate = pyro.param(\n",
    "        \"phi_rate\", \n",
    "        torch.tensor(2.0, device=device), \n",
    "        constraint=dist.constraints.positive\n",
    "    )\n",
    "    pyro.sample(\"phi\", dist.Gamma(phi_concentration, phi_rate))\n",
    "\n",
    "    # mu ~ Gamma(concentration, rate)\n",
    "    mu_concentration = pyro.param(\n",
    "        \"mu_concentration\", \n",
    "        torch.tensor(2.0, device=device), \n",
    "        constraint=dist.constraints.positive\n",
    "    )\n",
    "    mu_rate = pyro.param(\n",
    "        \"mu_rate\", \n",
    "        torch.tensor(2.0, device=device), \n",
    "        constraint=dist.constraints.positive\n",
    "    )\n",
    "    pyro.sample(\"mu\", dist.Gamma(mu_concentration, mu_rate))\n",
    "\n",
    "    # Global weights W [K, G]\n",
    "    W_loc = pyro.param(\"W_loc\", torch.randn(K, G, device=device))\n",
    "    W_scale = pyro.param(\"W_scale\", \n",
    "                         torch.ones(K, G, device=device), \n",
    "                         constraint=dist.constraints.positive)\n",
    "    W_scale = torch.clamp(W_scale, min=1e-6, max=1.0)  # Prevent exploding variance                        \n",
    "    pyro.sample(\"W\", dist.Normal(W_loc, W_scale).to_event(2))\n",
    "\n",
    "    # Folder-specific logits [num_folders, G]\n",
    "    folder_logits_loc = pyro.param(\"folder_logits_loc\", \n",
    "                                  torch.zeros(num_folders, G, device=device))\n",
    "    folder_logits_scale = pyro.param(\"folder_logits_scale\", \n",
    "                                    torch.ones(num_folders, G, device=device),\n",
    "                                    constraint=dist.constraints.positive)\n",
    "    pyro.sample(\"folder_logits\", dist.Normal(folder_logits_loc, folder_logits_scale).to_event(2))\n",
    "\n",
    "    # Dispersion per count variable [G]\n",
    "    r_alpha = pyro.param(\"r_alpha\", \n",
    "                         torch.ones(G, device=device), \n",
    "                         constraint=dist.constraints.positive)\n",
    "    r_beta = pyro.param(\"r_beta\", \n",
    "                        torch.ones(G, device=device), \n",
    "                        constraint=dist.constraints.positive)\n",
    "    pyro.sample(\"r\", dist.Gamma(r_alpha, r_beta).to_event(1))\n",
    "\n",
    "    # Amortized variational distribution over z [N, K]\n",
    "    logits_z = pyro.param(\"z_logits\", torch.randn(N, K, device=device))\n",
    "    probs_z = torch.sigmoid(logits_z)\n",
    "    with pyro.plate(\"data\", N):\n",
    "        pyro.sample(\"z\", dist.Bernoulli(probs_z).to_event(1))"
   ]
  },
  {
   "cell_type": "code",
   "execution_count": 37,
   "id": "4b40802e",
   "metadata": {},
   "outputs": [],
   "source": [
    "import pyro\n",
    "import pyro.optim as optim\n",
    "from pyro.infer import SVI, Trace_ELBO\n",
    "\n",
    "# Assume model and guide are already defined, as above\n",
    "\n",
    "optimizer = optim.ClippedAdam({\"lr\": 1e-2, \"clip_norm\": 5.0})\n",
    "\n",
    "svi = SVI(\n",
    "    model=model,\n",
    "    guide=guide,\n",
    "    optim=optimizer,\n",
    "    loss=Trace_ELBO(),\n",
    ")\n"
   ]
  },
  {
   "cell_type": "code",
   "execution_count": null,
   "id": "bd2765d0",
   "metadata": {},
   "outputs": [
    {
     "name": "stderr",
     "output_type": "stream",
     "text": [
      "\u001b[34m\u001b[1mwandb\u001b[0m: Currently logged in as: \u001b[33mjhaberbe\u001b[0m (\u001b[33mkibr\u001b[0m) to \u001b[32mhttps://api.wandb.ai\u001b[0m. Use \u001b[1m`wandb login --relogin`\u001b[0m to force relogin\n"
     ]
    },
    {
     "data": {
      "text/html": [
       "Tracking run with wandb version 0.19.11"
      ],
      "text/plain": [
       "<IPython.core.display.HTML object>"
      ]
     },
     "metadata": {},
     "output_type": "display_data"
    },
    {
     "data": {
      "text/html": [
       "Run data is saved locally in <code>/home/jhaberbe/Projects/spatial-indian-buffet-process/notebook/wandb/run-20250509_185728-z8nyv62q</code>"
      ],
      "text/plain": [
       "<IPython.core.display.HTML object>"
      ]
     },
     "metadata": {},
     "output_type": "display_data"
    },
    {
     "data": {
      "text/html": [
       "Syncing run <strong><a href='https://wandb.ai/kibr/spatial-indian-buffet-process/runs/z8nyv62q' target=\"_blank\">99-15-2</a></strong> to <a href='https://wandb.ai/kibr/spatial-indian-buffet-process' target=\"_blank\">Weights & Biases</a> (<a href='https://wandb.me/developer-guide' target=\"_blank\">docs</a>)<br>"
      ],
      "text/plain": [
       "<IPython.core.display.HTML object>"
      ]
     },
     "metadata": {},
     "output_type": "display_data"
    },
    {
     "data": {
      "text/html": [
       " View project at <a href='https://wandb.ai/kibr/spatial-indian-buffet-process' target=\"_blank\">https://wandb.ai/kibr/spatial-indian-buffet-process</a>"
      ],
      "text/plain": [
       "<IPython.core.display.HTML object>"
      ]
     },
     "metadata": {},
     "output_type": "display_data"
    },
    {
     "data": {
      "text/html": [
       " View run at <a href='https://wandb.ai/kibr/spatial-indian-buffet-process/runs/z8nyv62q' target=\"_blank\">https://wandb.ai/kibr/spatial-indian-buffet-process/runs/z8nyv62q</a>"
      ],
      "text/plain": [
       "<IPython.core.display.HTML object>"
      ]
     },
     "metadata": {},
     "output_type": "display_data"
    },
    {
     "name": "stdout",
     "output_type": "stream",
     "text": [
      "[0] ELBO loss: 5797049.66\n",
      "[100] ELBO loss: 3504805.97\n",
      "[200] ELBO loss: 3150768.00\n",
      "[300] ELBO loss: 3092380.18\n",
      "[400] ELBO loss: 3018088.43\n",
      "[500] ELBO loss: 3131968.47\n",
      "[600] ELBO loss: 2853130.74\n",
      "[700] ELBO loss: 2924567.19\n",
      "[800] ELBO loss: 2891375.75\n",
      "[900] ELBO loss: 2861174.75\n",
      "[1000] ELBO loss: 3010503.87\n",
      "[1100] ELBO loss: 2977943.56\n",
      "[1200] ELBO loss: 2858315.76\n",
      "[1300] ELBO loss: 2831150.33\n",
      "[1400] ELBO loss: 2944390.02\n",
      "[1500] ELBO loss: 3995204.99\n",
      "[1600] ELBO loss: 3000189.80\n",
      "[1700] ELBO loss: 3084456.36\n",
      "[1800] ELBO loss: 2852452.75\n",
      "[1900] ELBO loss: 2892142.14\n",
      "[2000] ELBO loss: 2913687.67\n",
      "[2100] ELBO loss: 2909935.02\n",
      "[2200] ELBO loss: 2927870.06\n",
      "[2300] ELBO loss: 2979228.75\n",
      "[2400] ELBO loss: 2907797.14\n",
      "[2500] ELBO loss: 2962397.20\n",
      "[2600] ELBO loss: 2868072.99\n",
      "[2700] ELBO loss: 2960882.69\n",
      "[2800] ELBO loss: 2885797.88\n",
      "[2900] ELBO loss: 2844116.28\n"
     ]
    }
   ],
   "source": [
    "num_steps = 100_000\n",
    "losses = []\n",
    "\n",
    "pyro.clear_param_store()\n",
    "\n",
    "import wandb\n",
    "wandb.init(project=\"spatial-indian-buffet-process\", name=\"99-15-2\")\n",
    "\n",
    "for step in range(num_steps):\n",
    "    loss = svi.step(locs, X, folder, size_factor, 1, K=100)\n",
    "    wandb.log({\n",
    "        \"loss\": loss,\n",
    "        \"average_logit\": dict(pyro.get_param_store())[\"z_logits\"].mean().item(),\n",
    "        \"percentage_above_zero\": (dict(pyro.get_param_store())[\"z_logits\"] > 0).float().mean().item(),\n",
    "    })\n",
    "    if step % 100 == 0:\n",
    "        print(f\"[{step}] ELBO loss: {loss:.2f}\")\n"
   ]
  },
  {
   "cell_type": "code",
   "execution_count": null,
   "id": "cae10538",
   "metadata": {},
   "outputs": [],
   "source": []
  }
 ],
 "metadata": {
  "kernelspec": {
   "display_name": ".venv",
   "language": "python",
   "name": "python3"
  },
  "language_info": {
   "codemirror_mode": {
    "name": "ipython",
    "version": 3
   },
   "file_extension": ".py",
   "mimetype": "text/x-python",
   "name": "python",
   "nbconvert_exporter": "python",
   "pygments_lexer": "ipython3",
   "version": "3.13.3"
  }
 },
 "nbformat": 4,
 "nbformat_minor": 5
}
