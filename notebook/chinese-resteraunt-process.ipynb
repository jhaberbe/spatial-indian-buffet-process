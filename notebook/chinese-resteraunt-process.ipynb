{
 "cells": [
  {
   "cell_type": "code",
   "execution_count": 1,
   "id": "6a660369",
   "metadata": {},
   "outputs": [],
   "source": [
    "import scanpy as sc\n",
    "adata = sc.read_h5ad(\"/home/jhaberbe/Projects/spatial-indian-buffet-process/data/new_annotations.h5ad\")"
   ]
  },
  {
   "cell_type": "code",
   "execution_count": 3,
   "id": "cac87b41",
   "metadata": {},
   "outputs": [],
   "source": [
    "import torch\n",
    "counts = adata.X.todense()\n",
    "counts = torch.tensor(counts)"
   ]
  },
  {
   "cell_type": "markdown",
   "id": "0c1b8ffa",
   "metadata": {},
   "source": [
    "## Reading Blei's Paper first."
   ]
  },
  {
   "cell_type": "code",
   "execution_count": null,
   "id": "bbb8ea3b",
   "metadata": {},
   "outputs": [],
   "source": [
    "import pyro.distributions as dist"
   ]
  },
  {
   "cell_type": "code",
   "execution_count": null,
   "id": "0abb2992",
   "metadata": {},
   "outputs": [
    {
     "data": {
      "text/plain": [
       "tensor([0.1000, 0.1000, 0.1000, 0.1000, 0.1000, 0.1000, 0.1000, 0.1000, 0.1000,\n",
       "        0.1000])"
      ]
     },
     "execution_count": 57,
     "metadata": {},
     "output_type": "execute_result"
    }
   ],
   "source": [
    "# Dirichlet Distributions\n",
    "# Simplex of nonnegative real numbers that sum to one\n",
    "dist.Dirichlet(torch.ones(10)).sample(), dist.Dirichlet(torch.ones(10)).sample().sum()\n",
    "\n",
    "# for a random vector U, distributed as a dirichlet random variable on the K-simplex, with alpha > 0\n",
    "# the mean of u is proportional to the parameters\n",
    "torch.ones(10) / torch.ones(10).sum()"
   ]
  },
  {
   "cell_type": "markdown",
   "id": "cec5c73a",
   "metadata": {},
   "source": [
    "### Chinese Restaurant Process\n",
    "\n",
    "Just a demonstration of the generative process that is assumed to be underlying it.\n",
    "\n",
    "Part of our inferential process is the idea that each of these tables has some beta parameter underlying it, drawn from a distribution G_0."
   ]
  },
  {
   "cell_type": "code",
   "execution_count": null,
   "id": "e6f5177e",
   "metadata": {},
   "outputs": [
    {
     "name": "stderr",
     "output_type": "stream",
     "text": [
      "100%|██████████| 1000000/1000000 [00:03<00:00, 294598.37it/s]\n"
     ]
    }
   ],
   "source": [
    "gamma = 1\n",
    "tables = []\n",
    "\n",
    "for i in tqdm(range(1_000_000)):\n",
    "    if i == 0:\n",
    "        tables.append([i])\n",
    "    else:\n",
    "        totals = np.array([len(x) for x in tables])\n",
    "        probabilities = totals / (gamma + i)\n",
    "        table_draw = np.random.multinomial(1, np.array(probabilities.tolist() + [(gamma / (gamma + i))])).argmax()\n",
    "        if (table_draw + 1) > len(tables):\n",
    "            tables.append([i])\n",
    "        else:\n",
    "            tables[table_draw].append(i)"
   ]
  },
  {
   "cell_type": "markdown",
   "id": "4cf8aa70",
   "metadata": {},
   "source": [
    "### Stick Breaking Construction\n",
    "\n",
    "Its defined as breaking sticks along the [0, 1] domain recursively through draws of a Beta distribution.\n",
    "$$\n",
    "V_1 \\sim \\text{Beta}(\\alpha, \\beta)\n",
    "$$\n",
    "\n",
    "\n",
    "Which broadly define the following stick breaking procedure.\n",
    "$$\n",
    "\\theta_i = V_i \\prod_{j=1}^{i-1}(1-V_j)\n",
    "$$\n",
    "\n",
    "\n",
    "\n"
   ]
  },
  {
   "cell_type": "code",
   "execution_count": 177,
   "id": "e3e59dbb",
   "metadata": {},
   "outputs": [
    {
     "name": "stderr",
     "output_type": "stream",
     "text": [
      "/tmp/ipykernel_126961/2980863630.py:2: FutureWarning: `sample_n(n)` will be deprecated. Use `sample((n,))` instead.\n",
      "  stick_breaking = dist.Beta(1., gamma).sample_n(100)\n"
     ]
    },
    {
     "data": {
      "text/plain": [
       "tensor([3.0311e-01, 2.4515e-01, 1.5978e-01, 5.6117e-02, 1.2349e-02, 9.6796e-02,\n",
       "        8.9983e-02, 5.3761e-03, 9.3138e-03, 1.8915e-02, 3.4388e-05, 1.4186e-04,\n",
       "        4.7850e-04, 1.6749e-03, 1.5183e-04, 2.4349e-04, 1.3128e-04, 1.8304e-05,\n",
       "        1.6316e-04, 3.5574e-05, 2.3442e-06, 1.9440e-05, 1.1627e-05, 4.1088e-06,\n",
       "        2.0119e-07, 7.3713e-07, 9.1857e-09, 6.4655e-07, 4.8955e-08, 3.3182e-08,\n",
       "        2.2598e-08, 1.4204e-08, 1.8048e-08, 1.7206e-08, 5.3102e-09, 2.7904e-10,\n",
       "        5.0013e-10, 5.5598e-10, 1.2019e-09, 4.2880e-10, 1.2739e-10, 2.5140e-11,\n",
       "        1.5899e-11, 3.4160e-11, 2.2752e-11, 6.1126e-11, 6.7262e-11, 1.6722e-11,\n",
       "        1.3781e-11, 5.3673e-12, 1.0974e-12, 9.1572e-14, 4.7706e-13, 8.1917e-14,\n",
       "        2.7165e-13, 1.2272e-13, 8.3815e-14, 3.5911e-14, 6.4449e-14, 3.2909e-14,\n",
       "        8.2922e-14, 8.8392e-15, 2.7986e-14, 4.2185e-15, 7.5553e-16, 9.1296e-16,\n",
       "        1.3687e-15, 1.2551e-15, 2.5918e-16, 4.3121e-16, 1.3772e-16, 1.1296e-16,\n",
       "        1.1877e-17, 4.6307e-18, 7.1279e-18, 3.9882e-18, 1.6990e-18, 4.6035e-19,\n",
       "        4.8505e-19, 1.5630e-19, 1.1694e-19, 1.5314e-20, 4.9567e-20, 2.6114e-20,\n",
       "        4.0547e-21, 7.7945e-22, 2.6040e-20, 4.6886e-21, 8.3625e-23, 2.4337e-20,\n",
       "        1.7700e-21, 2.8857e-21, 1.3849e-21, 5.2213e-22, 1.7566e-22, 2.1586e-22,\n",
       "        1.0673e-24, 7.6577e-23, 4.1714e-24, 5.0371e-24])"
      ]
     },
     "execution_count": 177,
     "metadata": {},
     "output_type": "execute_result"
    }
   ],
   "source": [
    "gamma = 2.\n",
    "stick_breaking = dist.Beta(1., gamma).sample_n(100)\n",
    "theta = stick_breaking * torch.cat((torch.ones(1), (1-stick_breaking).cumprod(dim=0)[:-1]))\n",
    "theta"
   ]
  },
  {
   "cell_type": "markdown",
   "id": "0cbf4421",
   "metadata": {},
   "source": [
    "### 2.4 Connections\n",
    "\n",
    "The major connection is that a paper by Pitman in 2002 shows that the way CRP and GEM partition distribution is the same.\n",
    "\n",
    "We can sort of get at what G is by doing the following:\n",
    "\n",
    "$$\n",
    "G = \\sum_{i=1}^{\\infty}\\theta_i\\delta_{\\beta_i}\n",
    "$$\n",
    "\n",
    "Our $\\beta_i$ is an atom that is at location $\\beta_i$\n",
    "\n",
    "They define a special case of the GEM, out of convenience, which gives control over the mean and variance of the stick lengths"
   ]
  },
  {
   "cell_type": "code",
   "execution_count": 188,
   "id": "be30a0ed",
   "metadata": {},
   "outputs": [
    {
     "name": "stderr",
     "output_type": "stream",
     "text": [
      "/tmp/ipykernel_126961/3812674519.py:4: FutureWarning: `sample_n(n)` will be deprecated. Use `sample((n,))` instead.\n",
      "  return dist.Beta(m*pi, (1-m)*pi).sample_n(n_samples)\n"
     ]
    },
    {
     "data": {
      "text/plain": [
       "tensor([0.2242])"
      ]
     },
     "execution_count": 188,
     "metadata": {},
     "output_type": "execute_result"
    }
   ],
   "source": [
    "def adjusted_gem_distribution(m, pi, n_samples = 1):\n",
    "    assert 0 < m < 1\n",
    "    assert 0 < pi\n",
    "    return dist.Beta(m*pi, (1-m)*pi).sample_n(n_samples)\n",
    "\n",
    "adjusted_gem_distribution(.5, .5)"
   ]
  },
  {
   "cell_type": "markdown",
   "id": "3a6344b5",
   "metadata": {},
   "source": [
    "### 3. Nested Chinese Restaurant Process\n",
    "\n",
    "- for each of the tables in the infinite tree:\n",
    "    - draw a topic b_k ~ Diriclet(eta)"
   ]
  },
  {
   "cell_type": "code",
   "execution_count": 191,
   "id": "61418a1c",
   "metadata": {},
   "outputs": [
    {
     "name": "stderr",
     "output_type": "stream",
     "text": [
      "/tmp/ipykernel_126961/864074457.py:2: FutureWarning: `sample_n(n)` will be deprecated. Use `sample((n,))` instead.\n",
      "  dist.Dirichlet(eta).sample_n(100)\n"
     ]
    },
    {
     "data": {
      "text/plain": [
       "tensor([[1.0161e-01, 1.4334e-01, 1.2585e-01, 3.3448e-02, 1.0561e-01, 3.5629e-02,\n",
       "         4.7144e-02, 1.7794e-01, 2.2239e-01, 7.0455e-03],\n",
       "        [7.7685e-02, 5.0154e-02, 1.4711e-01, 2.9614e-02, 2.0832e-01, 4.5049e-02,\n",
       "         2.0489e-02, 1.8380e-01, 2.0290e-02, 2.1748e-01],\n",
       "        [1.5905e-01, 7.2145e-02, 1.0704e-01, 1.7331e-01, 1.9187e-02, 3.2230e-02,\n",
       "         7.9466e-02, 1.7980e-01, 6.5757e-02, 1.1201e-01],\n",
       "        [4.6743e-02, 5.1934e-02, 3.9134e-02, 2.0828e-03, 4.7203e-01, 8.5971e-02,\n",
       "         1.2111e-01, 3.6458e-02, 8.6001e-02, 5.8542e-02],\n",
       "        [1.8867e-03, 2.9350e-03, 4.4882e-02, 4.8009e-02, 8.1955e-02, 5.5452e-01,\n",
       "         4.4684e-02, 3.7808e-02, 4.0455e-02, 1.4286e-01],\n",
       "        [1.4991e-01, 1.5454e-02, 6.0992e-03, 2.7044e-01, 5.6654e-03, 1.4033e-01,\n",
       "         8.8273e-02, 1.3041e-02, 1.4376e-01, 1.6703e-01],\n",
       "        [3.6220e-02, 1.2263e-03, 2.8848e-02, 1.9247e-01, 6.9255e-03, 5.7170e-02,\n",
       "         8.9803e-02, 2.8273e-01, 5.8561e-02, 2.4605e-01],\n",
       "        [1.1648e-01, 1.1843e-01, 7.1478e-02, 4.3490e-03, 1.6514e-01, 6.9939e-02,\n",
       "         7.3156e-02, 1.5948e-01, 9.3904e-02, 1.2764e-01],\n",
       "        [9.2463e-02, 2.9882e-02, 9.6130e-02, 1.6113e-01, 1.6871e-01, 4.0907e-02,\n",
       "         3.0173e-01, 6.4482e-03, 4.2480e-02, 6.0122e-02],\n",
       "        [2.2623e-02, 1.1530e-01, 9.5059e-02, 2.0193e-02, 4.9823e-03, 6.7868e-03,\n",
       "         1.4457e-01, 5.1892e-02, 3.8415e-01, 1.5444e-01],\n",
       "        [1.2952e-01, 1.3896e-01, 2.3139e-01, 1.3748e-01, 2.2458e-02, 6.6002e-03,\n",
       "         8.3730e-02, 1.0768e-01, 8.5021e-02, 5.7156e-02],\n",
       "        [2.0920e-01, 3.3772e-02, 1.3460e-01, 1.5451e-01, 4.2621e-02, 1.4119e-02,\n",
       "         1.5900e-02, 2.5389e-03, 1.8234e-01, 2.1040e-01],\n",
       "        [4.3968e-02, 4.6137e-02, 1.9761e-01, 3.6352e-02, 8.4115e-02, 2.5442e-01,\n",
       "         6.3644e-02, 6.8914e-03, 1.5336e-02, 2.5152e-01],\n",
       "        [5.5357e-02, 9.1677e-02, 1.1946e-01, 3.0099e-01, 8.4157e-02, 1.8581e-01,\n",
       "         6.3195e-02, 2.7836e-02, 2.4157e-02, 4.7358e-02],\n",
       "        [1.1880e-01, 7.5228e-02, 1.3814e-01, 4.7783e-02, 4.3334e-02, 1.6793e-01,\n",
       "         3.3183e-02, 1.0316e-01, 1.4962e-01, 1.2283e-01],\n",
       "        [1.3284e-01, 1.9511e-01, 2.0744e-01, 5.2879e-02, 2.1438e-02, 1.8978e-01,\n",
       "         9.6105e-02, 2.8093e-02, 5.2102e-02, 2.4220e-02],\n",
       "        [3.9652e-02, 5.7770e-02, 6.5440e-03, 3.4576e-01, 2.0210e-02, 6.3934e-02,\n",
       "         3.0050e-01, 7.2692e-02, 2.8245e-02, 6.4698e-02],\n",
       "        [4.9227e-02, 3.0307e-01, 1.2119e-02, 7.3467e-03, 1.7865e-01, 1.7779e-01,\n",
       "         1.3390e-02, 1.4572e-01, 5.6874e-02, 5.5813e-02],\n",
       "        [6.2957e-02, 2.6150e-02, 3.1450e-02, 4.8020e-02, 2.7537e-01, 1.4664e-01,\n",
       "         8.5794e-02, 2.0203e-01, 2.5318e-02, 9.6269e-02],\n",
       "        [2.0080e-01, 9.9094e-03, 2.7473e-02, 7.4608e-02, 2.9896e-01, 1.2315e-01,\n",
       "         8.1169e-02, 1.0114e-03, 9.1692e-02, 9.1224e-02],\n",
       "        [1.2804e-02, 2.0968e-01, 8.6445e-03, 6.9566e-02, 8.4895e-02, 5.5565e-02,\n",
       "         8.7644e-02, 1.8569e-01, 8.5678e-02, 1.9983e-01],\n",
       "        [1.6323e-01, 5.6093e-02, 2.6468e-01, 3.6305e-02, 2.0390e-01, 5.3394e-02,\n",
       "         4.1744e-02, 7.6150e-04, 1.7153e-01, 8.3668e-03],\n",
       "        [1.4719e-01, 1.1888e-01, 3.8749e-02, 7.5504e-02, 1.7694e-02, 6.5962e-02,\n",
       "         2.7450e-02, 4.4510e-02, 3.5006e-01, 1.1401e-01],\n",
       "        [3.0452e-01, 2.5616e-02, 3.1716e-02, 4.9455e-02, 2.5058e-01, 3.4564e-02,\n",
       "         5.7427e-02, 1.3732e-01, 3.2422e-02, 7.6385e-02],\n",
       "        [1.0861e-01, 9.2378e-04, 6.7934e-02, 2.0134e-01, 6.9017e-02, 1.1994e-01,\n",
       "         9.9821e-02, 8.6985e-02, 9.5606e-02, 1.4982e-01],\n",
       "        [1.8242e-02, 1.1646e-01, 4.2139e-01, 1.7335e-01, 3.0112e-03, 6.3118e-02,\n",
       "         1.3006e-01, 4.3116e-02, 2.0119e-02, 1.1123e-02],\n",
       "        [2.1010e-02, 1.1852e-01, 8.4286e-02, 3.6386e-02, 1.3506e-01, 5.8990e-03,\n",
       "         7.5130e-02, 2.5514e-01, 1.9963e-01, 6.8948e-02],\n",
       "        [1.1783e-02, 4.1956e-02, 4.0599e-02, 6.1936e-02, 3.1358e-01, 9.2024e-02,\n",
       "         5.9871e-02, 1.6885e-02, 7.2933e-02, 2.8843e-01],\n",
       "        [1.0616e-02, 1.2218e-01, 9.3132e-02, 7.1844e-02, 3.3448e-02, 1.7879e-02,\n",
       "         2.7969e-01, 3.0191e-01, 3.6178e-04, 6.8945e-02],\n",
       "        [1.2598e-01, 9.9658e-03, 1.4332e-01, 2.1773e-01, 4.4133e-02, 1.5211e-01,\n",
       "         1.0477e-02, 3.2399e-02, 9.3150e-02, 1.7073e-01],\n",
       "        [9.7989e-02, 6.9877e-02, 6.0207e-02, 2.9223e-02, 1.2449e-01, 9.2031e-03,\n",
       "         3.1576e-01, 1.2674e-02, 1.8688e-01, 9.3689e-02],\n",
       "        [5.8374e-02, 1.1553e-01, 4.0707e-02, 8.4646e-02, 3.6713e-02, 1.9307e-01,\n",
       "         2.1485e-01, 2.3070e-01, 7.2508e-03, 1.8150e-02],\n",
       "        [2.4361e-02, 1.6250e-01, 2.2641e-02, 2.2372e-01, 7.7464e-02, 1.8422e-02,\n",
       "         1.3047e-01, 6.9559e-02, 2.6287e-01, 7.9983e-03],\n",
       "        [1.0705e-02, 1.9500e-02, 1.5561e-01, 3.5847e-02, 2.8829e-01, 1.8770e-02,\n",
       "         1.7332e-01, 1.0259e-01, 9.5711e-02, 9.9658e-02],\n",
       "        [1.4221e-01, 4.6549e-02, 1.9734e-01, 7.7379e-02, 1.2502e-01, 1.4281e-02,\n",
       "         2.3503e-02, 3.1192e-02, 2.9324e-01, 4.9298e-02],\n",
       "        [2.5371e-02, 5.3803e-01, 4.7310e-03, 5.3203e-02, 1.5666e-01, 1.0080e-02,\n",
       "         1.2393e-02, 6.9414e-02, 7.8913e-02, 5.1198e-02],\n",
       "        [1.9204e-01, 3.2705e-02, 5.1658e-02, 2.2217e-01, 1.7766e-01, 6.2780e-02,\n",
       "         7.5211e-03, 1.3206e-02, 1.0659e-03, 2.3919e-01],\n",
       "        [4.0280e-01, 1.4142e-02, 5.4253e-03, 9.4470e-02, 2.5593e-01, 1.4178e-02,\n",
       "         4.8529e-02, 8.8742e-02, 2.9618e-02, 4.6163e-02],\n",
       "        [5.8671e-03, 6.0399e-02, 3.5669e-01, 1.2523e-02, 4.9883e-02, 7.5298e-03,\n",
       "         1.0376e-01, 1.5099e-01, 1.8623e-02, 2.3374e-01],\n",
       "        [8.1339e-02, 1.4240e-01, 1.9707e-01, 6.5438e-02, 5.7318e-02, 8.7130e-02,\n",
       "         1.4689e-01, 1.0001e-01, 2.7340e-02, 9.5066e-02],\n",
       "        [6.1445e-02, 4.7212e-02, 3.8335e-02, 8.6846e-02, 1.2271e-01, 3.5692e-02,\n",
       "         1.2477e-01, 1.2391e-01, 1.0636e-01, 2.5272e-01],\n",
       "        [6.3448e-02, 1.8175e-01, 1.4204e-01, 1.7237e-01, 3.8120e-02, 1.9632e-01,\n",
       "         3.0813e-02, 8.7944e-02, 1.8390e-02, 6.8809e-02],\n",
       "        [1.0726e-02, 8.5872e-02, 1.2159e-01, 1.5075e-01, 5.4909e-02, 1.4851e-01,\n",
       "         3.7664e-02, 3.0874e-01, 6.5793e-02, 1.5451e-02],\n",
       "        [2.3943e-01, 1.2066e-01, 1.7472e-02, 1.3770e-03, 6.3321e-02, 4.9978e-02,\n",
       "         1.6055e-01, 2.2636e-01, 9.9004e-02, 2.1845e-02],\n",
       "        [5.5898e-02, 6.6414e-03, 1.2341e-01, 1.7108e-01, 1.7263e-01, 6.3518e-02,\n",
       "         1.6144e-03, 1.3836e-05, 1.1242e-01, 2.9277e-01],\n",
       "        [5.0142e-02, 1.8089e-01, 1.4245e-01, 4.7575e-02, 1.0782e-01, 1.3713e-02,\n",
       "         4.5025e-02, 1.3598e-01, 1.6464e-01, 1.1177e-01],\n",
       "        [2.8236e-02, 3.0362e-02, 1.1909e-01, 4.4162e-02, 7.2430e-03, 9.9536e-02,\n",
       "         4.8863e-03, 8.7985e-02, 3.0982e-01, 2.6868e-01],\n",
       "        [1.0051e-01, 2.2517e-02, 1.1220e-01, 1.5365e-02, 1.6337e-02, 2.4749e-01,\n",
       "         3.7840e-02, 9.1981e-03, 2.1850e-01, 2.2005e-01],\n",
       "        [1.5635e-01, 4.8328e-02, 8.0962e-02, 8.0319e-02, 9.6818e-02, 1.1363e-01,\n",
       "         4.9932e-02, 3.7367e-02, 8.8930e-02, 2.4737e-01],\n",
       "        [1.3447e-01, 1.5966e-02, 1.2393e-01, 1.1754e-01, 6.5415e-02, 4.9138e-02,\n",
       "         2.3528e-01, 1.1518e-01, 6.9605e-02, 7.3476e-02],\n",
       "        [3.9905e-02, 1.1062e-02, 4.2144e-02, 6.2721e-02, 4.5836e-02, 8.4006e-02,\n",
       "         5.2753e-02, 2.7282e-01, 1.6270e-01, 2.2606e-01],\n",
       "        [1.0259e-01, 6.7763e-02, 3.3149e-01, 7.8073e-03, 5.0686e-02, 1.2746e-01,\n",
       "         9.9330e-02, 7.4254e-02, 1.3226e-01, 6.3619e-03],\n",
       "        [4.8019e-03, 1.8377e-01, 1.7119e-01, 3.4088e-01, 6.3105e-02, 4.2363e-02,\n",
       "         1.3692e-03, 9.2202e-02, 8.7603e-02, 1.2717e-02],\n",
       "        [2.9934e-01, 3.5313e-01, 1.5835e-01, 8.4130e-03, 9.2961e-02, 9.3276e-03,\n",
       "         1.1434e-02, 4.3035e-02, 7.7038e-03, 1.6308e-02],\n",
       "        [1.8371e-01, 1.8856e-02, 8.6139e-02, 4.3335e-02, 2.6214e-01, 1.9364e-02,\n",
       "         3.3714e-02, 1.8087e-01, 3.1366e-02, 1.4051e-01],\n",
       "        [1.4426e-01, 3.2496e-03, 2.2848e-02, 6.1413e-02, 3.3007e-01, 4.1308e-02,\n",
       "         7.5162e-03, 1.8995e-02, 2.2497e-01, 1.4536e-01],\n",
       "        [1.0538e-01, 3.9960e-02, 2.8724e-02, 7.7443e-02, 1.8416e-02, 1.4807e-01,\n",
       "         1.4354e-01, 5.2763e-02, 2.8218e-01, 1.0354e-01],\n",
       "        [4.7461e-02, 2.1670e-01, 1.9736e-02, 3.1382e-02, 2.6754e-03, 1.8179e-01,\n",
       "         1.9613e-01, 8.4622e-02, 6.2241e-02, 1.5727e-01],\n",
       "        [1.9954e-01, 1.2148e-01, 6.1762e-02, 2.5357e-02, 1.5807e-01, 1.4017e-01,\n",
       "         9.7467e-02, 1.0520e-01, 7.7690e-02, 1.3260e-02],\n",
       "        [1.3601e-01, 1.2951e-01, 2.4137e-02, 8.4998e-02, 2.1101e-01, 3.7350e-02,\n",
       "         1.7239e-02, 3.2096e-03, 2.0525e-01, 1.5127e-01],\n",
       "        [9.2723e-02, 2.1228e-02, 1.3172e-02, 3.8586e-02, 3.0544e-01, 5.9528e-02,\n",
       "         2.0654e-01, 1.8177e-01, 6.6778e-02, 1.4238e-02],\n",
       "        [2.5003e-01, 1.1005e-01, 1.7708e-01, 4.7505e-02, 1.0316e-01, 9.1712e-04,\n",
       "         1.0183e-01, 5.3514e-02, 7.7489e-02, 7.8433e-02],\n",
       "        [2.6315e-02, 2.0430e-01, 3.9266e-02, 6.2163e-02, 1.9673e-01, 2.3766e-02,\n",
       "         2.5154e-02, 2.2117e-02, 3.7528e-01, 2.4911e-02],\n",
       "        [1.0729e-01, 8.4613e-02, 2.3126e-02, 9.9151e-02, 2.4170e-01, 1.0360e-01,\n",
       "         3.8709e-02, 3.1094e-02, 4.8762e-02, 2.2195e-01],\n",
       "        [1.9295e-01, 5.4806e-02, 5.3728e-02, 1.0905e-01, 6.3468e-02, 6.6601e-02,\n",
       "         8.4063e-03, 1.6936e-01, 4.3110e-02, 2.3852e-01],\n",
       "        [1.8877e-02, 8.5501e-02, 1.4949e-01, 2.6642e-02, 1.1557e-01, 9.6802e-02,\n",
       "         2.7992e-01, 1.1141e-02, 3.4048e-03, 2.1265e-01],\n",
       "        [1.3576e-02, 2.0467e-02, 1.1716e-01, 1.0440e-02, 2.2760e-02, 1.1465e-01,\n",
       "         1.7310e-01, 1.1016e-01, 2.4012e-02, 3.9368e-01],\n",
       "        [7.5718e-03, 4.2375e-02, 2.4887e-01, 6.6588e-02, 2.2412e-02, 1.7044e-01,\n",
       "         2.1135e-02, 1.4929e-01, 2.1163e-01, 5.9678e-02],\n",
       "        [8.5348e-03, 1.5160e-02, 1.2339e-01, 2.3579e-01, 1.1716e-01, 1.1931e-01,\n",
       "         9.5222e-02, 5.4403e-02, 1.7695e-01, 5.4090e-02],\n",
       "        [2.7239e-01, 7.4568e-02, 1.4981e-01, 1.1333e-01, 1.0076e-01, 7.0771e-02,\n",
       "         1.2006e-01, 3.8543e-02, 4.4829e-02, 1.4939e-02],\n",
       "        [1.5249e-01, 1.4533e-01, 1.3837e-01, 1.6805e-01, 6.1534e-02, 2.4766e-02,\n",
       "         8.8922e-02, 1.0690e-01, 9.3412e-02, 2.0225e-02],\n",
       "        [1.0799e-01, 1.3193e-01, 4.4895e-02, 1.3617e-01, 2.0000e-01, 1.5024e-01,\n",
       "         1.6716e-02, 1.7209e-01, 1.3036e-02, 2.6934e-02],\n",
       "        [3.1440e-01, 1.9816e-01, 2.7555e-02, 4.0005e-02, 1.8265e-02, 3.7038e-03,\n",
       "         7.2072e-02, 6.3441e-02, 2.2184e-01, 4.0555e-02],\n",
       "        [1.7664e-01, 1.1965e-02, 9.9355e-02, 8.8810e-02, 1.2320e-01, 4.9508e-02,\n",
       "         5.4845e-02, 4.0457e-02, 2.6789e-01, 8.7323e-02],\n",
       "        [3.0377e-02, 1.5125e-02, 2.7737e-01, 1.5822e-01, 1.8313e-01, 1.5210e-03,\n",
       "         1.6536e-01, 9.2029e-03, 1.3874e-02, 1.4581e-01],\n",
       "        [5.5300e-02, 4.9328e-02, 2.9559e-02, 7.4412e-02, 1.5483e-01, 2.2613e-02,\n",
       "         3.3127e-01, 8.9297e-02, 1.6793e-01, 2.5463e-02],\n",
       "        [7.5980e-02, 3.6319e-02, 9.9560e-02, 1.3002e-01, 3.8073e-01, 6.0532e-02,\n",
       "         1.2205e-02, 1.3282e-01, 4.3831e-02, 2.7996e-02],\n",
       "        [1.2077e-02, 3.7783e-02, 7.7537e-02, 2.6245e-01, 2.1970e-01, 1.9077e-02,\n",
       "         1.4562e-01, 1.3333e-01, 4.0866e-02, 5.1563e-02],\n",
       "        [9.6274e-02, 9.6440e-02, 8.7326e-02, 1.5257e-01, 6.8550e-03, 3.6926e-01,\n",
       "         3.2269e-02, 5.7046e-02, 4.2151e-02, 5.9803e-02],\n",
       "        [9.6273e-02, 1.0428e-01, 2.0454e-01, 2.6645e-02, 8.7525e-05, 2.6125e-01,\n",
       "         5.0571e-02, 1.8920e-02, 1.9012e-01, 4.7318e-02],\n",
       "        [9.7534e-02, 3.5333e-02, 2.3151e-01, 1.7753e-02, 8.8071e-02, 6.1832e-02,\n",
       "         1.3939e-02, 6.7236e-02, 2.8139e-01, 1.0541e-01],\n",
       "        [3.1716e-02, 1.7757e-01, 8.8971e-02, 4.4453e-02, 8.8255e-02, 3.7702e-01,\n",
       "         5.0160e-02, 4.5118e-04, 6.0511e-03, 1.3536e-01],\n",
       "        [5.3806e-02, 3.1009e-02, 6.4733e-02, 2.3401e-01, 9.6077e-02, 1.0553e-02,\n",
       "         8.9382e-04, 1.5215e-01, 1.3394e-01, 2.2284e-01],\n",
       "        [2.0093e-01, 8.5506e-02, 1.3904e-01, 1.7323e-02, 8.5058e-02, 1.4292e-01,\n",
       "         2.2018e-01, 2.1854e-02, 2.6937e-02, 6.0254e-02],\n",
       "        [4.6859e-02, 2.7532e-02, 5.4123e-02, 1.0158e-01, 7.4496e-02, 2.0638e-02,\n",
       "         4.1782e-01, 2.7296e-03, 8.7893e-02, 1.6633e-01],\n",
       "        [2.5200e-02, 1.6714e-01, 1.3161e-01, 5.2891e-02, 5.1789e-02, 2.8583e-01,\n",
       "         1.3720e-01, 1.9156e-02, 3.9336e-02, 8.9849e-02],\n",
       "        [2.2420e-02, 1.3823e-01, 1.6861e-01, 3.0560e-01, 7.2965e-02, 8.2213e-02,\n",
       "         2.9514e-02, 9.4768e-02, 7.7755e-02, 7.9335e-03],\n",
       "        [2.4903e-02, 1.7820e-02, 2.5065e-01, 1.6287e-01, 3.3117e-03, 2.8819e-02,\n",
       "         6.1060e-02, 3.1708e-02, 1.4568e-01, 2.7317e-01],\n",
       "        [1.8084e-02, 2.9940e-02, 8.6314e-02, 2.9582e-01, 3.7380e-02, 1.7285e-01,\n",
       "         4.9926e-02, 1.9771e-01, 1.2462e-02, 9.9512e-02],\n",
       "        [3.1333e-01, 2.8775e-02, 9.3734e-04, 1.9238e-02, 1.5970e-01, 4.9179e-03,\n",
       "         1.7423e-01, 1.8865e-01, 6.3619e-02, 4.6606e-02],\n",
       "        [1.5904e-01, 1.4313e-01, 1.9986e-01, 2.8426e-02, 1.6927e-02, 3.1377e-02,\n",
       "         6.9090e-02, 2.4254e-01, 7.2328e-02, 3.7284e-02],\n",
       "        [1.9773e-02, 1.8670e-01, 2.2618e-01, 2.0908e-02, 1.0609e-01, 1.4955e-01,\n",
       "         3.6965e-02, 7.4418e-02, 6.0669e-02, 1.1875e-01],\n",
       "        [4.4986e-02, 4.2004e-02, 5.2256e-02, 2.4216e-01, 1.9340e-01, 4.6361e-03,\n",
       "         7.1348e-02, 2.9076e-02, 2.7494e-01, 4.5196e-02],\n",
       "        [2.1066e-02, 1.0078e-01, 1.7017e-01, 2.0210e-02, 1.5612e-01, 3.1948e-02,\n",
       "         3.9814e-02, 9.2517e-02, 9.2481e-02, 2.7490e-01],\n",
       "        [2.3198e-01, 9.5650e-02, 6.6550e-03, 5.9998e-02, 2.2641e-01, 7.1400e-02,\n",
       "         3.9614e-03, 1.2279e-01, 6.9439e-02, 1.1172e-01],\n",
       "        [1.9566e-01, 1.3531e-01, 7.3575e-04, 2.9790e-02, 7.2353e-02, 2.3806e-02,\n",
       "         1.4346e-01, 4.2011e-02, 3.2890e-01, 2.7971e-02],\n",
       "        [2.7760e-01, 5.0508e-02, 5.2362e-03, 1.0436e-02, 3.2758e-01, 2.5267e-02,\n",
       "         1.1766e-01, 2.5564e-03, 1.9825e-02, 1.6333e-01],\n",
       "        [1.1559e-01, 9.0887e-02, 2.7414e-01, 1.8495e-03, 3.7747e-02, 1.1721e-01,\n",
       "         9.6768e-02, 5.0437e-02, 7.3311e-02, 1.4205e-01],\n",
       "        [3.4226e-02, 1.4853e-01, 1.5573e-01, 6.1329e-03, 1.1514e-01, 1.1210e-01,\n",
       "         4.7084e-02, 1.8163e-01, 4.8083e-02, 1.5133e-01],\n",
       "        [6.5875e-02, 2.3061e-01, 2.0319e-02, 7.3025e-02, 1.5755e-01, 1.5464e-01,\n",
       "         1.4568e-02, 9.7820e-02, 1.8091e-01, 4.6770e-03]])"
      ]
     },
     "execution_count": 191,
     "metadata": {},
     "output_type": "execute_result"
    }
   ],
   "source": [
    "eta = torch.ones(10)\n",
    "dist.Dirichlet(eta).sample_n(100)"
   ]
  },
  {
   "cell_type": "code",
   "execution_count": 238,
   "id": "42d301d7",
   "metadata": {},
   "outputs": [],
   "source": [
    "import pyro\n",
    "import pyro.nn as pnn\n",
    "import torch.nn as nn\n",
    "\n",
    "eta = torch.ones(5)\n",
    "\n",
    "class TreeNode:\n",
    "    def __init__(self, name=None, parent=None):\n",
    "        super().__init__()\n",
    "        self.name = name\n",
    "        self.parent = parent\n",
    "        self.children = []\n",
    "        self.topic = None\n",
    "        self.draw_topic(eta)\n",
    "        self.documents = []\n",
    "\n",
    "    def add_child(self, name):\n",
    "        self.children.append(TreeNode(name=\"name\", parent=self))\n",
    "\n",
    "    def forward(self, *args, **kwargs):\n",
    "        raise NotImplementedError(\"Override `forward` in subclasses.\")\n",
    "    \n",
    "    def draw_topic(self, eta):\n",
    "        self.topic = dist.Dirichlet(eta).sample()"
   ]
  },
  {
   "cell_type": "markdown",
   "id": "9951590b",
   "metadata": {},
   "source": [
    "## Setting up the tree."
   ]
  },
  {
   "cell_type": "code",
   "execution_count": 184,
   "id": "81647f89",
   "metadata": {},
   "outputs": [],
   "source": [
    "import torch\n",
    "import pyro\n",
    "import pyro.distributions as dist\n",
    "from collections import defaultdict\n",
    "import random\n",
    "\n",
    "class GibbsSampler:\n",
    "    def __init__(self, root, alpha=1.0, max_depth=3):\n",
    "        self.root = root\n",
    "        self.alpha = alpha\n",
    "        self.max_depth = max_depth\n",
    "        self.path_registry = defaultdict(list)  # {index: [node1, node2, ...]}\n",
    "\n",
    "    def remove_index(self, idx):\n",
    "        for node in self.path_registry[idx]:\n",
    "            node.remove_index(idx, self.path_registry)\n",
    "\n",
    "            # If we have an empty tree, we now remove the sucker.\n",
    "            if len(node.indices) == 0:\n",
    "                del(node)\n",
    "        del self.path_registry[idx]\n",
    "\n",
    "    def sample_path(self, idx, counts=counts):\n",
    "        current_node = self.root\n",
    "        self.path_registry[idx] = []\n",
    "\n",
    "        for depth in range(self.max_depth):\n",
    "            children = list(current_node.children.values())\n",
    "            num_children = len(children)\n",
    "\n",
    "            # Gather CRP prior weights\n",
    "            crp_log_weights = torch.tensor([\n",
    "                torch.log(torch.tensor(len(child.indices), dtype=torch.float32) + 1e-8)  # log(n_k)\n",
    "                for child in children\n",
    "            ] + [torch.log(torch.tensor(self.alpha))])  # log(γ) for new node\n",
    "\n",
    "            # Compute log-likelihoods\n",
    "            log_liks = torch.tensor([\n",
    "                dist.Categorical(child.params).log_prob(counts[idx]).sum()\n",
    "                for child in children\n",
    "            ] + [dist.Categorical(current_node.params).log_prob(counts[idx]).sum()])\n",
    "\n",
    "            # Combine prior + likelihood\n",
    "            log_probs = crp_log_weights + log_liks\n",
    "\n",
    "            # Normalize and sample\n",
    "            probs = torch.softmax(log_probs, dim=0)\n",
    "            choice = dist.Categorical(probs).sample()\n",
    "\n",
    "            if choice == num_children:\n",
    "                name = f\"node_{depth}_{len(children)}\"\n",
    "                child = current_node.add_child(name)\n",
    "            else:\n",
    "                child = children[choice]\n",
    "\n",
    "            child.add_index(idx, self.path_registry)\n",
    "            current_node = child\n",
    "\n",
    "\n",
    "    def resample_all(self, indices):\n",
    "        for idx in tqdm(indices):\n",
    "            if idx in self.path_registry:\n",
    "                self.remove_index(idx)\n",
    "            self.sample_path(idx)\n",
    "\n",
    "import pyro\n",
    "import pyro.nn as pnn\n",
    "import torch.nn as nn\n",
    "from collections import defaultdict\n",
    "\n",
    "# Giving counts is BAD, STINKY\n",
    "class TreeNode:\n",
    "    def __init__(self, name=None, parent=None, counts = counts):\n",
    "        self.name = name\n",
    "        self.parent = parent\n",
    "        self.children = dict()\n",
    "        self.indices = set()\n",
    "        # TODO: Figure out this.\n",
    "        self.params = None\n",
    "        self.estimate_dirichlet_alpha(counts)\n",
    "\n",
    "    def add_child(self, name):\n",
    "        if name in self.children:\n",
    "            raise ValueError(f\"Child '{name}' already exists.\")\n",
    "        child = TreeNode(name=name, parent=self)\n",
    "        self.children[name] = child\n",
    "        return child\n",
    "\n",
    "    def get_or_create_child(self, name):\n",
    "        return self.children.get(name) or self.add_child(name)\n",
    "\n",
    "    # counts here is also BAD BAD BAD\n",
    "    def add_index(self, idx, path_registry, counts = counts):\n",
    "        self.indices.add(idx)\n",
    "        path_registry[idx].append(self)\n",
    "        self.estimate_dirichlet_alpha(counts)\n",
    "\n",
    "    def remove_index(self, idx, path_registry):\n",
    "        self.indices.discard(idx)\n",
    "        if self in path_registry[idx]:\n",
    "            path_registry[idx].remove(self)\n",
    "\n",
    "    def is_leaf(self):\n",
    "        return len(self.children) == 0\n",
    "\n",
    "    def estimate_dirichlet_alpha(self, counts):\n",
    "        if len(self.indices) == 0:\n",
    "            self.params = torch.ones(counts.shape[1])\n",
    "        else:\n",
    "            self.params = fit_dirichlet_multinomial(counts[list(self.indices)])\n",
    "\n",
    "    def __repr__(self):\n",
    "        return f\"TreeNode(name={self.name}, num_indices={len(self.indices)}, num_children={len(self.children)})\"\n"
   ]
  },
  {
   "cell_type": "code",
   "execution_count": 180,
   "id": "b5604b28",
   "metadata": {},
   "outputs": [],
   "source": [
    "root = TreeNode(\"root\", counts=counts)\n",
    "sampler = GibbsSampler(root, alpha=1.0, max_depth=3)\n",
    "root.params = alpha"
   ]
  },
  {
   "cell_type": "code",
   "execution_count": 181,
   "id": "dd696ffa",
   "metadata": {},
   "outputs": [
    {
     "name": "stderr",
     "output_type": "stream",
     "text": [
      "  0%|          | 0/1000 [00:00<?, ?it/s]"
     ]
    },
    {
     "name": "stdout",
     "output_type": "stream",
     "text": [
      "{0}\n",
      "tensor([0.])\n",
      "tensor([0.])\n"
     ]
    },
    {
     "name": "stderr",
     "output_type": "stream",
     "text": [
      "\n"
     ]
    },
    {
     "ename": "ValueError",
     "evalue": "not enough values to unpack (expected 2, got 1)",
     "output_type": "error",
     "traceback": [
      "\u001b[31m---------------------------------------------------------------------------\u001b[39m",
      "\u001b[31mValueError\u001b[39m                                Traceback (most recent call last)",
      "\u001b[36mCell\u001b[39m\u001b[36m \u001b[39m\u001b[32mIn[181]\u001b[39m\u001b[32m, line 4\u001b[39m\n\u001b[32m      2\u001b[39m indices = \u001b[38;5;28mlist\u001b[39m(\u001b[38;5;28mrange\u001b[39m(\u001b[32m1000\u001b[39m))\n\u001b[32m      3\u001b[39m \u001b[38;5;28;01mfor\u001b[39;00m idx \u001b[38;5;129;01min\u001b[39;00m tqdm(indices):\n\u001b[32m----> \u001b[39m\u001b[32m4\u001b[39m     \u001b[43msampler\u001b[49m\u001b[43m.\u001b[49m\u001b[43msample_path\u001b[49m\u001b[43m(\u001b[49m\u001b[43midx\u001b[49m\u001b[43m)\u001b[49m\n",
      "\u001b[36mCell\u001b[39m\u001b[36m \u001b[39m\u001b[32mIn[179]\u001b[39m\u001b[32m, line 61\u001b[39m, in \u001b[36mGibbsSampler.sample_path\u001b[39m\u001b[34m(self, idx, counts)\u001b[39m\n\u001b[32m     58\u001b[39m \u001b[38;5;28;01melse\u001b[39;00m:\n\u001b[32m     59\u001b[39m     child = children[choice]\n\u001b[32m---> \u001b[39m\u001b[32m61\u001b[39m \u001b[43mchild\u001b[49m\u001b[43m.\u001b[49m\u001b[43madd_index\u001b[49m\u001b[43m(\u001b[49m\u001b[43midx\u001b[49m\u001b[43m,\u001b[49m\u001b[43m \u001b[49m\u001b[38;5;28;43mself\u001b[39;49m\u001b[43m.\u001b[49m\u001b[43mpath_registry\u001b[49m\u001b[43m,\u001b[49m\u001b[43m \u001b[49m\u001b[43mcounts\u001b[49m\u001b[43m)\u001b[49m\n\u001b[32m     62\u001b[39m current_node = child\n",
      "\u001b[36mCell\u001b[39m\u001b[36m \u001b[39m\u001b[32mIn[179]\u001b[39m\u001b[32m, line 93\u001b[39m, in \u001b[36mTreeNode.add_index\u001b[39m\u001b[34m(self, idx, path_registry, counts)\u001b[39m\n\u001b[32m     91\u001b[39m \u001b[38;5;28mself\u001b[39m.indices.add(idx)\n\u001b[32m     92\u001b[39m path_registry[idx].append(\u001b[38;5;28mself\u001b[39m)\n\u001b[32m---> \u001b[39m\u001b[32m93\u001b[39m \u001b[38;5;28;43mself\u001b[39;49m\u001b[43m.\u001b[49m\u001b[43mestimate_dirichlet_alpha\u001b[49m\u001b[43m(\u001b[49m\u001b[43mcounts\u001b[49m\u001b[43m)\u001b[49m\n",
      "\u001b[36mCell\u001b[39m\u001b[36m \u001b[39m\u001b[32mIn[179]\u001b[39m\u001b[32m, line 111\u001b[39m, in \u001b[36mTreeNode.estimate_dirichlet_alpha\u001b[39m\u001b[34m(self, counts)\u001b[39m\n\u001b[32m    109\u001b[39m \u001b[38;5;28mprint\u001b[39m(\u001b[38;5;28mself\u001b[39m.indices)\n\u001b[32m    110\u001b[39m \u001b[38;5;28mprint\u001b[39m(counts[\u001b[38;5;28mlist\u001b[39m(\u001b[38;5;28mself\u001b[39m.indices)])\n\u001b[32m--> \u001b[39m\u001b[32m111\u001b[39m \u001b[38;5;28mself\u001b[39m.params = \u001b[38;5;28;43mself\u001b[39;49m\u001b[43m.\u001b[49m\u001b[43mfit_dirichlet_multinomial\u001b[49m\u001b[43m(\u001b[49m\u001b[43mcounts\u001b[49m\u001b[43m[\u001b[49m\u001b[38;5;28;43mlist\u001b[39;49m\u001b[43m(\u001b[49m\u001b[38;5;28;43mself\u001b[39;49m\u001b[43m.\u001b[49m\u001b[43mindices\u001b[49m\u001b[43m)\u001b[49m\u001b[43m]\u001b[49m\u001b[43m)\u001b[49m\n",
      "\u001b[36mCell\u001b[39m\u001b[36m \u001b[39m\u001b[32mIn[179]\u001b[39m\u001b[32m, line 131\u001b[39m, in \u001b[36mTreeNode.fit_dirichlet_multinomial\u001b[39m\u001b[34m(counts, max_iter, tol, eps)\u001b[39m\n\u001b[32m    122\u001b[39m \u001b[38;5;250m\u001b[39m\u001b[33;03m\"\"\"\u001b[39;00m\n\u001b[32m    123\u001b[39m \u001b[33;03mFit Dirichlet-Multinomial using fixed-point iteration (Minka's method).\u001b[39;00m\n\u001b[32m    124\u001b[39m \n\u001b[32m   (...)\u001b[39m\u001b[32m    128\u001b[39m \u001b[33;03m    alpha (Tensor): K-dimensional concentration parameter\u001b[39;00m\n\u001b[32m    129\u001b[39m \u001b[33;03m\"\"\"\u001b[39;00m\n\u001b[32m    130\u001b[39m \u001b[38;5;28mprint\u001b[39m(counts)\n\u001b[32m--> \u001b[39m\u001b[32m131\u001b[39m N, K = counts.shape\n\u001b[32m    132\u001b[39m alpha = torch.ones(K, dtype=counts.dtype, device=counts.device)\n\u001b[32m    134\u001b[39m \u001b[38;5;28;01mfor\u001b[39;00m i \u001b[38;5;129;01min\u001b[39;00m \u001b[38;5;28mrange\u001b[39m(max_iter):\n",
      "\u001b[31mValueError\u001b[39m: not enough values to unpack (expected 2, got 1)"
     ]
    }
   ],
   "source": [
    "from tqdm import tqdm\n",
    "indices = list(range(1000))\n",
    "for idx in tqdm(indices):\n",
    "    sampler.sample_path(idx)"
   ]
  },
  {
   "cell_type": "code",
   "execution_count": 168,
   "id": "a79ba8e1",
   "metadata": {},
   "outputs": [
    {
     "name": "stderr",
     "output_type": "stream",
     "text": [
      "  0%|          | 0/1000 [00:00<?, ?it/s]"
     ]
    },
    {
     "name": "stdout",
     "output_type": "stream",
     "text": [
      "tensor([0.])\n"
     ]
    },
    {
     "name": "stderr",
     "output_type": "stream",
     "text": [
      "\n"
     ]
    },
    {
     "ename": "ValueError",
     "evalue": "not enough values to unpack (expected 2, got 1)",
     "output_type": "error",
     "traceback": [
      "\u001b[31m---------------------------------------------------------------------------\u001b[39m",
      "\u001b[31mValueError\u001b[39m                                Traceback (most recent call last)",
      "\u001b[36mCell\u001b[39m\u001b[36m \u001b[39m\u001b[32mIn[168]\u001b[39m\u001b[32m, line 1\u001b[39m\n\u001b[32m----> \u001b[39m\u001b[32m1\u001b[39m \u001b[43msampler\u001b[49m\u001b[43m.\u001b[49m\u001b[43mresample_all\u001b[49m\u001b[43m(\u001b[49m\u001b[43mindices\u001b[49m\u001b[43m)\u001b[49m\n",
      "\u001b[36mCell\u001b[39m\u001b[36m \u001b[39m\u001b[32mIn[165]\u001b[39m\u001b[32m, line 68\u001b[39m, in \u001b[36mGibbsSampler.resample_all\u001b[39m\u001b[34m(self, indices)\u001b[39m\n\u001b[32m     66\u001b[39m \u001b[38;5;28;01mif\u001b[39;00m idx \u001b[38;5;129;01min\u001b[39;00m \u001b[38;5;28mself\u001b[39m.path_registry:\n\u001b[32m     67\u001b[39m     \u001b[38;5;28mself\u001b[39m.remove_index(idx)\n\u001b[32m---> \u001b[39m\u001b[32m68\u001b[39m \u001b[38;5;28;43mself\u001b[39;49m\u001b[43m.\u001b[49m\u001b[43msample_path\u001b[49m\u001b[43m(\u001b[49m\u001b[43midx\u001b[49m\u001b[43m)\u001b[49m\n",
      "\u001b[36mCell\u001b[39m\u001b[36m \u001b[39m\u001b[32mIn[165]\u001b[39m\u001b[32m, line 61\u001b[39m, in \u001b[36mGibbsSampler.sample_path\u001b[39m\u001b[34m(self, idx, counts)\u001b[39m\n\u001b[32m     58\u001b[39m \u001b[38;5;28;01melse\u001b[39;00m:\n\u001b[32m     59\u001b[39m     child = children[choice]\n\u001b[32m---> \u001b[39m\u001b[32m61\u001b[39m \u001b[43mchild\u001b[49m\u001b[43m.\u001b[49m\u001b[43madd_index\u001b[49m\u001b[43m(\u001b[49m\u001b[43midx\u001b[49m\u001b[43m,\u001b[49m\u001b[43m \u001b[49m\u001b[38;5;28;43mself\u001b[39;49m\u001b[43m.\u001b[49m\u001b[43mpath_registry\u001b[49m\u001b[43m,\u001b[49m\u001b[43m \u001b[49m\u001b[43mcounts\u001b[49m\u001b[43m)\u001b[49m\n\u001b[32m     62\u001b[39m current_node = child\n",
      "\u001b[36mCell\u001b[39m\u001b[36m \u001b[39m\u001b[32mIn[165]\u001b[39m\u001b[32m, line 93\u001b[39m, in \u001b[36mTreeNode.add_index\u001b[39m\u001b[34m(self, idx, path_registry, counts)\u001b[39m\n\u001b[32m     91\u001b[39m \u001b[38;5;28mself\u001b[39m.indices.add(idx)\n\u001b[32m     92\u001b[39m path_registry[idx].append(\u001b[38;5;28mself\u001b[39m)\n\u001b[32m---> \u001b[39m\u001b[32m93\u001b[39m \u001b[38;5;28;43mself\u001b[39;49m\u001b[43m.\u001b[49m\u001b[43mestimate_dirichlet_alpha\u001b[49m\u001b[43m(\u001b[49m\u001b[43mcounts\u001b[49m\u001b[43m)\u001b[49m\n",
      "\u001b[36mCell\u001b[39m\u001b[36m \u001b[39m\u001b[32mIn[165]\u001b[39m\u001b[32m, line 109\u001b[39m, in \u001b[36mTreeNode.estimate_dirichlet_alpha\u001b[39m\u001b[34m(self, counts)\u001b[39m\n\u001b[32m    107\u001b[39m     \u001b[38;5;28mself\u001b[39m.params = torch.ones(\u001b[32m28206\u001b[39m)\n\u001b[32m    108\u001b[39m \u001b[38;5;28;01melse\u001b[39;00m:\n\u001b[32m--> \u001b[39m\u001b[32m109\u001b[39m     \u001b[38;5;28mself\u001b[39m.params = \u001b[38;5;28;43mself\u001b[39;49m\u001b[43m.\u001b[49m\u001b[43mfit_dirichlet_multinomial\u001b[49m\u001b[43m(\u001b[49m\u001b[43mcounts\u001b[49m\u001b[43m[\u001b[49m\u001b[38;5;28;43mlist\u001b[39;49m\u001b[43m(\u001b[49m\u001b[38;5;28;43mself\u001b[39;49m\u001b[43m.\u001b[49m\u001b[43mindices\u001b[49m\u001b[43m)\u001b[49m\u001b[43m]\u001b[49m\u001b[43m)\u001b[49m\n",
      "\u001b[36mCell\u001b[39m\u001b[36m \u001b[39m\u001b[32mIn[165]\u001b[39m\u001b[32m, line 129\u001b[39m, in \u001b[36mTreeNode.fit_dirichlet_multinomial\u001b[39m\u001b[34m(counts, max_iter, tol, eps)\u001b[39m\n\u001b[32m    120\u001b[39m \u001b[38;5;250m\u001b[39m\u001b[33;03m\"\"\"\u001b[39;00m\n\u001b[32m    121\u001b[39m \u001b[33;03mFit Dirichlet-Multinomial using fixed-point iteration (Minka's method).\u001b[39;00m\n\u001b[32m    122\u001b[39m \n\u001b[32m   (...)\u001b[39m\u001b[32m    126\u001b[39m \u001b[33;03m    alpha (Tensor): K-dimensional concentration parameter\u001b[39;00m\n\u001b[32m    127\u001b[39m \u001b[33;03m\"\"\"\u001b[39;00m\n\u001b[32m    128\u001b[39m \u001b[38;5;28mprint\u001b[39m(counts)\n\u001b[32m--> \u001b[39m\u001b[32m129\u001b[39m N, K = counts.shape\n\u001b[32m    130\u001b[39m alpha = torch.ones(K, dtype=counts.dtype, device=counts.device)\n\u001b[32m    132\u001b[39m \u001b[38;5;28;01mfor\u001b[39;00m i \u001b[38;5;129;01min\u001b[39;00m \u001b[38;5;28mrange\u001b[39m(max_iter):\n",
      "\u001b[31mValueError\u001b[39m: not enough values to unpack (expected 2, got 1)"
     ]
    }
   ],
   "source": [
    "sampler.resample_all(indices)"
   ]
  },
  {
   "cell_type": "code",
   "execution_count": 169,
   "id": "94db0ad0",
   "metadata": {},
   "outputs": [
    {
     "data": {
      "text/plain": [
       "{'node_0_0': TreeNode(name=node_0_0, num_indices=0, num_children=0),\n",
       " 'node_0_1': TreeNode(name=node_0_1, num_indices=1, num_children=0)}"
      ]
     },
     "execution_count": 169,
     "metadata": {},
     "output_type": "execute_result"
    }
   ],
   "source": [
    "root.children"
   ]
  },
  {
   "cell_type": "code",
   "execution_count": 85,
   "id": "228fc376",
   "metadata": {},
   "outputs": [
    {
     "data": {
      "text/plain": [
       "4"
      ]
     },
     "execution_count": 85,
     "metadata": {},
     "output_type": "execute_result"
    }
   ],
   "source": [
    "def get_max_depth(node):\n",
    "    if not node.children:\n",
    "        return 1\n",
    "    return 1 + max(get_max_depth(child) for child in node.children.values())\n",
    "\n",
    "get_max_depth(root)"
   ]
  },
  {
   "cell_type": "code",
   "execution_count": 86,
   "id": "a40016f0",
   "metadata": {},
   "outputs": [
    {
     "data": {
      "text/plain": [
       "{'node_0_0': TreeNode(name=node_0_0, num_indices=13, num_children=2),\n",
       " 'node_0_1': TreeNode(name=node_0_1, num_indices=9, num_children=2),\n",
       " 'node_0_2': TreeNode(name=node_0_2, num_indices=1, num_children=1),\n",
       " 'node_0_3': TreeNode(name=node_0_3, num_indices=112, num_children=3),\n",
       " 'node_0_4': TreeNode(name=node_0_4, num_indices=1, num_children=1),\n",
       " 'node_0_5': TreeNode(name=node_0_5, num_indices=7, num_children=2),\n",
       " 'node_0_6': TreeNode(name=node_0_6, num_indices=1, num_children=1),\n",
       " 'node_0_7': TreeNode(name=node_0_7, num_indices=1, num_children=1),\n",
       " 'node_0_8': TreeNode(name=node_0_8, num_indices=1, num_children=1),\n",
       " 'node_0_9': TreeNode(name=node_0_9, num_indices=4, num_children=1),\n",
       " 'node_0_10': TreeNode(name=node_0_10, num_indices=1, num_children=1),\n",
       " 'node_0_11': TreeNode(name=node_0_11, num_indices=5, num_children=1),\n",
       " 'node_0_12': TreeNode(name=node_0_12, num_indices=1, num_children=1),\n",
       " 'node_0_13': TreeNode(name=node_0_13, num_indices=1, num_children=1),\n",
       " 'node_0_14': TreeNode(name=node_0_14, num_indices=1, num_children=1),\n",
       " 'node_0_15': TreeNode(name=node_0_15, num_indices=1, num_children=1),\n",
       " 'node_0_16': TreeNode(name=node_0_16, num_indices=1, num_children=1),\n",
       " 'node_0_17': TreeNode(name=node_0_17, num_indices=3, num_children=2),\n",
       " 'node_0_18': TreeNode(name=node_0_18, num_indices=4, num_children=1),\n",
       " 'node_0_19': TreeNode(name=node_0_19, num_indices=1, num_children=1),\n",
       " 'node_0_20': TreeNode(name=node_0_20, num_indices=8, num_children=5),\n",
       " 'node_0_21': TreeNode(name=node_0_21, num_indices=7, num_children=2),\n",
       " 'node_0_22': TreeNode(name=node_0_22, num_indices=1, num_children=1),\n",
       " 'node_0_23': TreeNode(name=node_0_23, num_indices=1, num_children=1),\n",
       " 'node_0_24': TreeNode(name=node_0_24, num_indices=1, num_children=1),\n",
       " 'node_0_25': TreeNode(name=node_0_25, num_indices=30, num_children=4),\n",
       " 'node_0_26': TreeNode(name=node_0_26, num_indices=1, num_children=1),\n",
       " 'node_0_27': TreeNode(name=node_0_27, num_indices=1, num_children=1),\n",
       " 'node_0_28': TreeNode(name=node_0_28, num_indices=3, num_children=1),\n",
       " 'node_0_29': TreeNode(name=node_0_29, num_indices=1, num_children=1),\n",
       " 'node_0_30': TreeNode(name=node_0_30, num_indices=30, num_children=2),\n",
       " 'node_0_31': TreeNode(name=node_0_31, num_indices=24, num_children=2),\n",
       " 'node_0_32': TreeNode(name=node_0_32, num_indices=23, num_children=2),\n",
       " 'node_0_33': TreeNode(name=node_0_33, num_indices=1, num_children=1),\n",
       " 'node_0_34': TreeNode(name=node_0_34, num_indices=5, num_children=1),\n",
       " 'node_0_35': TreeNode(name=node_0_35, num_indices=47, num_children=4),\n",
       " 'node_0_36': TreeNode(name=node_0_36, num_indices=1, num_children=1),\n",
       " 'node_0_37': TreeNode(name=node_0_37, num_indices=1, num_children=1),\n",
       " 'node_0_38': TreeNode(name=node_0_38, num_indices=1, num_children=1),\n",
       " 'node_0_39': TreeNode(name=node_0_39, num_indices=1, num_children=1),\n",
       " 'node_0_40': TreeNode(name=node_0_40, num_indices=21, num_children=3),\n",
       " 'node_0_41': TreeNode(name=node_0_41, num_indices=1, num_children=1),\n",
       " 'node_0_42': TreeNode(name=node_0_42, num_indices=1, num_children=1),\n",
       " 'node_0_43': TreeNode(name=node_0_43, num_indices=1, num_children=1),\n",
       " 'node_0_44': TreeNode(name=node_0_44, num_indices=1, num_children=1),\n",
       " 'node_0_45': TreeNode(name=node_0_45, num_indices=1, num_children=1),\n",
       " 'node_0_46': TreeNode(name=node_0_46, num_indices=2, num_children=1),\n",
       " 'node_0_47': TreeNode(name=node_0_47, num_indices=1, num_children=1),\n",
       " 'node_0_48': TreeNode(name=node_0_48, num_indices=1, num_children=1),\n",
       " 'node_0_49': TreeNode(name=node_0_49, num_indices=1, num_children=1),\n",
       " 'node_0_50': TreeNode(name=node_0_50, num_indices=1, num_children=1),\n",
       " 'node_0_51': TreeNode(name=node_0_51, num_indices=5, num_children=2),\n",
       " 'node_0_52': TreeNode(name=node_0_52, num_indices=1, num_children=1),\n",
       " 'node_0_53': TreeNode(name=node_0_53, num_indices=1, num_children=1),\n",
       " 'node_0_54': TreeNode(name=node_0_54, num_indices=3, num_children=1),\n",
       " 'node_0_55': TreeNode(name=node_0_55, num_indices=17, num_children=2),\n",
       " 'node_0_56': TreeNode(name=node_0_56, num_indices=1, num_children=1),\n",
       " 'node_0_57': TreeNode(name=node_0_57, num_indices=1, num_children=1),\n",
       " 'node_0_58': TreeNode(name=node_0_58, num_indices=17, num_children=3),\n",
       " 'node_0_59': TreeNode(name=node_0_59, num_indices=21, num_children=2),\n",
       " 'node_0_60': TreeNode(name=node_0_60, num_indices=1, num_children=1),\n",
       " 'node_0_61': TreeNode(name=node_0_61, num_indices=1, num_children=1),\n",
       " 'node_0_62': TreeNode(name=node_0_62, num_indices=4, num_children=1),\n",
       " 'node_0_63': TreeNode(name=node_0_63, num_indices=3, num_children=1),\n",
       " 'node_0_64': TreeNode(name=node_0_64, num_indices=1, num_children=1),\n",
       " 'node_0_65': TreeNode(name=node_0_65, num_indices=7, num_children=2),\n",
       " 'node_0_66': TreeNode(name=node_0_66, num_indices=1, num_children=1),\n",
       " 'node_0_67': TreeNode(name=node_0_67, num_indices=7, num_children=2),\n",
       " 'node_0_68': TreeNode(name=node_0_68, num_indices=1, num_children=1),\n",
       " 'node_0_69': TreeNode(name=node_0_69, num_indices=59, num_children=3),\n",
       " 'node_0_70': TreeNode(name=node_0_70, num_indices=3, num_children=1),\n",
       " 'node_0_71': TreeNode(name=node_0_71, num_indices=18, num_children=2),\n",
       " 'node_0_72': TreeNode(name=node_0_72, num_indices=5, num_children=2),\n",
       " 'node_0_73': TreeNode(name=node_0_73, num_indices=7, num_children=2),\n",
       " 'node_0_74': TreeNode(name=node_0_74, num_indices=6, num_children=1),\n",
       " 'node_0_75': TreeNode(name=node_0_75, num_indices=1, num_children=1),\n",
       " 'node_0_76': TreeNode(name=node_0_76, num_indices=18, num_children=3),\n",
       " 'node_0_77': TreeNode(name=node_0_77, num_indices=3, num_children=1),\n",
       " 'node_0_78': TreeNode(name=node_0_78, num_indices=15, num_children=2),\n",
       " 'node_0_79': TreeNode(name=node_0_79, num_indices=1, num_children=1),\n",
       " 'node_0_80': TreeNode(name=node_0_80, num_indices=4, num_children=1),\n",
       " 'node_0_81': TreeNode(name=node_0_81, num_indices=1, num_children=1),\n",
       " 'node_0_82': TreeNode(name=node_0_82, num_indices=3, num_children=1),\n",
       " 'node_0_83': TreeNode(name=node_0_83, num_indices=4, num_children=1),\n",
       " 'node_0_84': TreeNode(name=node_0_84, num_indices=1, num_children=1),\n",
       " 'node_0_85': TreeNode(name=node_0_85, num_indices=4, num_children=1),\n",
       " 'node_0_86': TreeNode(name=node_0_86, num_indices=1, num_children=1),\n",
       " 'node_0_87': TreeNode(name=node_0_87, num_indices=10, num_children=2),\n",
       " 'node_0_88': TreeNode(name=node_0_88, num_indices=1, num_children=1),\n",
       " 'node_0_89': TreeNode(name=node_0_89, num_indices=1, num_children=1),\n",
       " 'node_0_90': TreeNode(name=node_0_90, num_indices=43, num_children=3),\n",
       " 'node_0_91': TreeNode(name=node_0_91, num_indices=4, num_children=2),\n",
       " 'node_0_92': TreeNode(name=node_0_92, num_indices=1, num_children=1),\n",
       " 'node_0_93': TreeNode(name=node_0_93, num_indices=1, num_children=1),\n",
       " 'node_0_94': TreeNode(name=node_0_94, num_indices=1, num_children=1),\n",
       " 'node_0_95': TreeNode(name=node_0_95, num_indices=1, num_children=1),\n",
       " 'node_0_96': TreeNode(name=node_0_96, num_indices=1, num_children=1),\n",
       " 'node_0_97': TreeNode(name=node_0_97, num_indices=4, num_children=2),\n",
       " 'node_0_98': TreeNode(name=node_0_98, num_indices=28, num_children=4),\n",
       " 'node_0_99': TreeNode(name=node_0_99, num_indices=18, num_children=2),\n",
       " 'node_0_100': TreeNode(name=node_0_100, num_indices=1, num_children=1),\n",
       " 'node_0_101': TreeNode(name=node_0_101, num_indices=2, num_children=1),\n",
       " 'node_0_102': TreeNode(name=node_0_102, num_indices=1, num_children=1),\n",
       " 'node_0_103': TreeNode(name=node_0_103, num_indices=1, num_children=1),\n",
       " 'node_0_104': TreeNode(name=node_0_104, num_indices=9, num_children=2),\n",
       " 'node_0_105': TreeNode(name=node_0_105, num_indices=7, num_children=1),\n",
       " 'node_0_106': TreeNode(name=node_0_106, num_indices=1, num_children=1),\n",
       " 'node_0_107': TreeNode(name=node_0_107, num_indices=1, num_children=1),\n",
       " 'node_0_108': TreeNode(name=node_0_108, num_indices=1, num_children=1),\n",
       " 'node_0_109': TreeNode(name=node_0_109, num_indices=1, num_children=1),\n",
       " 'node_0_110': TreeNode(name=node_0_110, num_indices=1, num_children=1),\n",
       " 'node_0_111': TreeNode(name=node_0_111, num_indices=1, num_children=1),\n",
       " 'node_0_112': TreeNode(name=node_0_112, num_indices=4, num_children=1),\n",
       " 'node_0_113': TreeNode(name=node_0_113, num_indices=10, num_children=2),\n",
       " 'node_0_114': TreeNode(name=node_0_114, num_indices=1, num_children=1),\n",
       " 'node_0_115': TreeNode(name=node_0_115, num_indices=4, num_children=1),\n",
       " 'node_0_116': TreeNode(name=node_0_116, num_indices=17, num_children=2),\n",
       " 'node_0_117': TreeNode(name=node_0_117, num_indices=18, num_children=2),\n",
       " 'node_0_118': TreeNode(name=node_0_118, num_indices=1, num_children=1),\n",
       " 'node_0_119': TreeNode(name=node_0_119, num_indices=7, num_children=2),\n",
       " 'node_0_120': TreeNode(name=node_0_120, num_indices=3, num_children=1),\n",
       " 'node_0_121': TreeNode(name=node_0_121, num_indices=1, num_children=1),\n",
       " 'node_0_122': TreeNode(name=node_0_122, num_indices=1, num_children=1),\n",
       " 'node_0_123': TreeNode(name=node_0_123, num_indices=16, num_children=2),\n",
       " 'node_0_124': TreeNode(name=node_0_124, num_indices=1, num_children=1),\n",
       " 'node_0_125': TreeNode(name=node_0_125, num_indices=1, num_children=1),\n",
       " 'node_0_126': TreeNode(name=node_0_126, num_indices=1, num_children=1),\n",
       " 'node_0_127': TreeNode(name=node_0_127, num_indices=3, num_children=2),\n",
       " 'node_0_128': TreeNode(name=node_0_128, num_indices=8, num_children=1),\n",
       " 'node_0_129': TreeNode(name=node_0_129, num_indices=5, num_children=1),\n",
       " 'node_0_130': TreeNode(name=node_0_130, num_indices=1, num_children=1),\n",
       " 'node_0_131': TreeNode(name=node_0_131, num_indices=1, num_children=1),\n",
       " 'node_0_132': TreeNode(name=node_0_132, num_indices=30, num_children=2),\n",
       " 'node_0_133': TreeNode(name=node_0_133, num_indices=9, num_children=2),\n",
       " 'node_0_134': TreeNode(name=node_0_134, num_indices=10, num_children=2),\n",
       " 'node_0_135': TreeNode(name=node_0_135, num_indices=33, num_children=2),\n",
       " 'node_0_136': TreeNode(name=node_0_136, num_indices=1, num_children=1),\n",
       " 'node_0_137': TreeNode(name=node_0_137, num_indices=1, num_children=1),\n",
       " 'node_0_138': TreeNode(name=node_0_138, num_indices=1, num_children=1),\n",
       " 'node_0_139': TreeNode(name=node_0_139, num_indices=1, num_children=1),\n",
       " 'node_0_140': TreeNode(name=node_0_140, num_indices=1, num_children=1),\n",
       " 'node_0_141': TreeNode(name=node_0_141, num_indices=1, num_children=1),\n",
       " 'node_0_142': TreeNode(name=node_0_142, num_indices=1, num_children=1),\n",
       " 'node_0_143': TreeNode(name=node_0_143, num_indices=1, num_children=1),\n",
       " 'node_0_144': TreeNode(name=node_0_144, num_indices=1, num_children=1),\n",
       " 'node_0_145': TreeNode(name=node_0_145, num_indices=1, num_children=1),\n",
       " 'node_0_146': TreeNode(name=node_0_146, num_indices=8, num_children=2),\n",
       " 'node_0_147': TreeNode(name=node_0_147, num_indices=2, num_children=1),\n",
       " 'node_0_148': TreeNode(name=node_0_148, num_indices=1, num_children=1),\n",
       " 'node_0_149': TreeNode(name=node_0_149, num_indices=1, num_children=1),\n",
       " 'node_0_150': TreeNode(name=node_0_150, num_indices=1, num_children=1),\n",
       " 'node_0_151': TreeNode(name=node_0_151, num_indices=1, num_children=1),\n",
       " 'node_0_152': TreeNode(name=node_0_152, num_indices=5, num_children=1),\n",
       " 'node_0_153': TreeNode(name=node_0_153, num_indices=1, num_children=1),\n",
       " 'node_0_154': TreeNode(name=node_0_154, num_indices=1, num_children=1),\n",
       " 'node_0_155': TreeNode(name=node_0_155, num_indices=1, num_children=1),\n",
       " 'node_0_156': TreeNode(name=node_0_156, num_indices=1, num_children=1),\n",
       " 'node_0_157': TreeNode(name=node_0_157, num_indices=3, num_children=1),\n",
       " 'node_0_158': TreeNode(name=node_0_158, num_indices=17, num_children=2)}"
      ]
     },
     "execution_count": 86,
     "metadata": {},
     "output_type": "execute_result"
    }
   ],
   "source": [
    "root.children"
   ]
  },
  {
   "cell_type": "code",
   "execution_count": null,
   "id": "0ea36083",
   "metadata": {},
   "outputs": [],
   "source": []
  }
 ],
 "metadata": {
  "kernelspec": {
   "display_name": ".venv",
   "language": "python",
   "name": "python3"
  },
  "language_info": {
   "codemirror_mode": {
    "name": "ipython",
    "version": 3
   },
   "file_extension": ".py",
   "mimetype": "text/x-python",
   "name": "python",
   "nbconvert_exporter": "python",
   "pygments_lexer": "ipython3",
   "version": "3.13.3"
  }
 },
 "nbformat": 4,
 "nbformat_minor": 5
}
