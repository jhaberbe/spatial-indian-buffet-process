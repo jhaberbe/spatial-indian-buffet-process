{
 "cells": [
  {
   "cell_type": "code",
   "execution_count": 1,
   "id": "7421e498",
   "metadata": {},
   "outputs": [
    {
     "name": "stderr",
     "output_type": "stream",
     "text": [
      "/home/jhaberbe/Projects/spatial-indian-buffet-process/.venv/lib/python3.13/site-packages/anndata/_core/anndata.py:1756: UserWarning: Observation names are not unique. To make them unique, call `.obs_names_make_unique`.\n",
      "  utils.warn_names_duplicates(\"obs\")\n"
     ]
    }
   ],
   "source": [
    "import scanpy as sc\n",
    "\n",
    "adata = sc.read_h5ad(\"/home/jhaberbe/Projects/indian-buffet-process/data/16APR2025.h5ad\")\n",
    "adata = adata[adata.obs[\"cell_type\"].eq(\"Microglia-PVM\") & adata.obs[\"folder\"].eq(\"99-15\")]"
   ]
  },
  {
   "cell_type": "code",
   "execution_count": 2,
   "id": "c3dd3ff9",
   "metadata": {},
   "outputs": [],
   "source": [
    "import torch\n",
    "import numpy as np\n",
    "import pandas as pd\n",
    "\n",
    "# Set device\n",
    "device = torch.device(\"cuda\" if torch.cuda.is_available() else \"cpu\")\n",
    "if device == \"cuda\":\n",
    "    print(\"CUDA Enabled\")\n",
    "\n",
    "def setup_torch_data(adata, specimen_name: str = \"folder\"):\n",
    "    X = torch.tensor(adata[:, (adata.X > 0).mean(axis=0) > 0.05].layers[\"transcript\"])\n",
    "    size_factor = torch.tensor(np.log((adata.X.sum(axis=1) / adata.X.sum(axis=1).mean())))\n",
    "    folder = torch.tensor(pd.Categorical(adata.obs[specimen_name]).codes).float()\n",
    "    return X, size_factor, folder\n",
    "\n",
    "X, size_factor, folder = setup_torch_data(adata, specimen_name=\"folder\")\n",
    "\n",
    "X = X.to(device)\n",
    "size_factor = size_factor.to(device)\n",
    "folder = folder.to(device)\n",
    "locs = torch.tensor(adata.obs[[\"x_centroid\", \"y_centroid\"]].values).to(device)"
   ]
  },
  {
   "cell_type": "code",
   "execution_count": 3,
   "id": "8932e5cd",
   "metadata": {},
   "outputs": [],
   "source": [
    "def b_k(f_k):\n",
    "    \"\"\"Stick-breaking transformation of GP output\"\"\"\n",
    "    v_k = torch.sigmoid(f_k)\n",
    "    return v_k * (1-v_k).cumprod(dim=-1)"
   ]
  },
  {
   "cell_type": "code",
   "execution_count": 4,
   "id": "412cc5c9",
   "metadata": {},
   "outputs": [
    {
     "name": "stderr",
     "output_type": "stream",
     "text": [
      "/home/jhaberbe/Projects/spatial-indian-buffet-process/.venv/lib/python3.13/site-packages/tqdm/auto.py:21: TqdmWarning: IProgress not found. Please update jupyter and ipywidgets. See https://ipywidgets.readthedocs.io/en/stable/user_install.html\n",
      "  from .autonotebook import tqdm as notebook_tqdm\n"
     ]
    }
   ],
   "source": [
    "import torch\n",
    "import pyro\n",
    "import pyro.distributions as dist\n",
    "from pyro.infer import SVI, Trace_ELBO, JitTraceMeanField_ELBO, JitTrace_ELBO\n",
    "from pyro.optim import ClippedAdam\n",
    "from gpytorch.kernels import MaternKernel\n",
    "\n",
    "def model(s, y, folder_ids, size_factors, num_folders, K=10):\n",
    "    \"\"\"Pyro model with explicit device handling.\"\"\"\n",
    "    # 1. Get device from inputs and validate\n",
    "    device = s.device\n",
    "    assert y.device == device, f\"y is on {y.device} but should be on {device}\"\n",
    "    assert folder_ids.device == device, f\"folder_ids on {folder_ids.device}\"\n",
    "    assert size_factors.device == device, f\"size_factors on {size_factors.device}\"\n",
    "    \n",
    "    N, D = s.shape\n",
    "    G = y.shape[1]\n",
    "\n",
    "    # 2. Hyperparameters (explicit device)\n",
    "    hyper_params = {\n",
    "        'tau_scale': torch.tensor(2.0, device=device),\n",
    "        'tau_rate': torch.tensor(2.0, device=device),\n",
    "        'phi_scale': torch.tensor(2.0, device=device),\n",
    "        'phi_rate': torch.tensor(2.0, device=device),\n",
    "        'mu_scale': torch.tensor(2.0, device=device),\n",
    "        'mu_rate': torch.tensor(2.0, device=device),\n",
    "        'r_concentration': torch.tensor(2.0, device=device),\n",
    "        'r_rate': torch.tensor(1.0, device=device)\n",
    "    }\n",
    "\n",
    "    # 3. Sample global parameters\n",
    "    tau = pyro.sample(\"tau\", dist.Gamma(hyper_params['tau_scale'], hyper_params['tau_rate']).expand([1]))\n",
    "    phi = pyro.sample(\"phi\", dist.Gamma(hyper_params['phi_scale'], hyper_params['phi_rate']).expand([1]))\n",
    "    mu = pyro.sample(\"mu\", dist.Gamma(hyper_params['mu_scale'], hyper_params['mu_rate']).expand([1]))\n",
    "\n",
    "    # 4. GP kernel (ensure kernel is on device)\n",
    "    kernel = MaternKernel(nu=2.5, ard_num_dims=D).to(device)\n",
    "    kernel.lengthscale = phi\n",
    "\n",
    "    # 5. Latent GP values\n",
    "    # Latent GP values - corrected implementation\n",
    "    cov = kernel(s).evaluate() * (1 / tau)\n",
    "    with pyro.plate(\"features\", K):\n",
    "        # Use Independent to properly handle batch dimensions\n",
    "        f_k = pyro.sample(\n",
    "            \"f_k\",\n",
    "            dist.MultivariateNormal(\n",
    "                mu * torch.ones(N, device=device),\n",
    "                covariance_matrix=cov\n",
    "            )\n",
    "        )\n",
    "\n",
    "\n",
    "    # 6. Stick-breaking (verify b_k handles devices)\n",
    "    pi = b_k(f_k.T.to(device))  # Explicit device\n",
    "\n",
    "    # 7. Feature activations\n",
    "    with pyro.plate(\"data\", N):\n",
    "        z = pyro.sample(\"z\", dist.Bernoulli(pi).to_event(1))\n",
    "\n",
    "    # 8. Global weights\n",
    "    W = pyro.sample(\"W\", dist.Normal(\n",
    "        torch.zeros(K, G, device=device),\n",
    "        torch.ones(K, G, device=device)\n",
    "    ).to_event(2))\n",
    "\n",
    "    # 9. Folder terms\n",
    "    with pyro.plate(\"folders\", num_folders):\n",
    "        folder_logits = pyro.sample(\"folder_logits\", dist.Normal(\n",
    "            torch.zeros(num_folders, G, device=device),\n",
    "            torch.ones(num_folders, G, device=device)\n",
    "        ).to_event(2))\n",
    "\n",
    "    # 10. Dispersion\n",
    "    r = pyro.sample(\"r\", dist.Gamma(\n",
    "        hyper_params['r_concentration'],\n",
    "        hyper_params['r_rate']\n",
    "    ).expand([G]).to_event(1))\n",
    "\n",
    "    # 11. Logits computation (triple-check devices)\n",
    "    linear_term = z @ W\n",
    "    folder_term = folder_logits[folder_ids.to(device).long()]  # Force device and type\n",
    "    size_term = (size_factors.to(device) + 1e-6).unsqueeze(-1)\n",
    "\n",
    "    # # Add this right before your NegativeBinomial sampling\n",
    "    # print(\"NaN check:\")\n",
    "    # print(f\"linear_term: {torch.isnan(linear_term).any().item()}\")\n",
    "    # print(f\"folder_term: {torch.isnan(folder_term).any().item()}\")\n",
    "    # print(f\"size_term: {torch.isnan(size_term).any().item()}\")\n",
    "    \n",
    "    # print(f\"r: {torch.isnan(r).any().item()}\")\n",
    "\n",
    "    logits = linear_term + folder_term + size_term\n",
    "    logits = torch.clamp(logits, -20, 20)  # Additional safety\n",
    "\n",
    "    # 12. Final likelihood with validation\n",
    "    pyro.sample(\"obs\", dist.NegativeBinomial(\n",
    "        total_count=r,\n",
    "        logits=logits\n",
    "    ).to_event(2), obs=y.to(device))  # Final safety"
   ]
  },
  {
   "cell_type": "code",
   "execution_count": 5,
   "id": "36d18f35",
   "metadata": {},
   "outputs": [],
   "source": [
    "import pyro\n",
    "import pyro.distributions as dist\n",
    "import torch\n",
    "import torch.nn.functional as F\n",
    "\n",
    "def guide(s, y, folder_ids, size_factors, num_folders, K=10):\n",
    "    device = s.device\n",
    "    N, D = s.shape\n",
    "    G = y.shape[1]\n",
    "\n",
    "    with pyro.plate(\"features\", K):\n",
    "        f_k_loc = pyro.param(\"f_k_loc\", torch.randn(K, N, device=device))\n",
    "        pyro.sample(\n",
    "            \"f_k\",\n",
    "            dist.Normal(f_k_loc, 1).to_event(1)  # Using Normal instead of Delta\n",
    "        )\n",
    "\n",
    "    # 1. Variational distributions for GP hyperparameters\n",
    "    # tau ~ Gamma(concentration, rate)\n",
    "    tau_concentration = pyro.param(\n",
    "        \"tau_concentration\", \n",
    "        torch.tensor(2.0, device=device), \n",
    "        constraint=dist.constraints.positive\n",
    "    )\n",
    "    tau_rate = pyro.param(\n",
    "        \"tau_rate\", \n",
    "        torch.tensor(2.0, device=device), \n",
    "        constraint=dist.constraints.positive\n",
    "    )\n",
    "    pyro.sample(\"tau\", dist.Gamma(tau_concentration, tau_rate))\n",
    "\n",
    "    # phi ~ Gamma(concentration, rate)\n",
    "    phi_concentration = pyro.param(\n",
    "        \"phi_concentration\", \n",
    "        torch.tensor(2.0, device=device), \n",
    "        constraint=dist.constraints.positive\n",
    "    )\n",
    "    phi_rate = pyro.param(\n",
    "        \"phi_rate\", \n",
    "        torch.tensor(2.0, device=device), \n",
    "        constraint=dist.constraints.positive\n",
    "    )\n",
    "    pyro.sample(\"phi\", dist.Gamma(phi_concentration, phi_rate))\n",
    "\n",
    "    # mu ~ Gamma(concentration, rate)\n",
    "    mu_concentration = pyro.param(\n",
    "        \"mu_concentration\", \n",
    "        torch.tensor(2.0, device=device), \n",
    "        constraint=dist.constraints.positive\n",
    "    )\n",
    "    mu_rate = pyro.param(\n",
    "        \"mu_rate\", \n",
    "        torch.tensor(2.0, device=device), \n",
    "        constraint=dist.constraints.positive\n",
    "    )\n",
    "    pyro.sample(\"mu\", dist.Gamma(mu_concentration, mu_rate))\n",
    "\n",
    "    # Global weights W [K, G]\n",
    "    W_loc = pyro.param(\"W_loc\", torch.randn(K, G, device=device))\n",
    "    W_scale = pyro.param(\"W_scale\", \n",
    "                         torch.ones(K, G, device=device), \n",
    "                         constraint=dist.constraints.positive)\n",
    "    W_scale = torch.clamp(W_scale, min=1e-6, max=1.0)  # Prevent exploding variance                        \n",
    "    pyro.sample(\"W\", dist.Normal(W_loc, W_scale).to_event(2))\n",
    "\n",
    "    # Folder-specific logits [num_folders, G]\n",
    "    folder_logits_loc = pyro.param(\"folder_logits_loc\", \n",
    "                                  torch.zeros(num_folders, G, device=device))\n",
    "    folder_logits_scale = pyro.param(\"folder_logits_scale\", \n",
    "                                    torch.ones(num_folders, G, device=device),\n",
    "                                    constraint=dist.constraints.positive)\n",
    "    pyro.sample(\"folder_logits\", dist.Normal(folder_logits_loc, folder_logits_scale).to_event(2))\n",
    "\n",
    "    # Dispersion per count variable [G]\n",
    "    r_alpha = pyro.param(\"r_alpha\", \n",
    "                         torch.ones(G, device=device), \n",
    "                         constraint=dist.constraints.positive)\n",
    "    r_beta = pyro.param(\"r_beta\", \n",
    "                        torch.ones(G, device=device), \n",
    "                        constraint=dist.constraints.positive)\n",
    "    pyro.sample(\"r\", dist.Gamma(r_alpha, r_beta).to_event(1))\n",
    "\n",
    "    # Amortized variational distribution over z [N, K]\n",
    "    logits_z = pyro.param(\"z_logits\", torch.randn(N, K, device=device))\n",
    "    probs_z = torch.sigmoid(logits_z)\n",
    "    with pyro.plate(\"data\", N):\n",
    "        pyro.sample(\"z\", dist.Bernoulli(probs_z).to_event(1))"
   ]
  },
  {
   "cell_type": "code",
   "execution_count": 6,
   "id": "4b40802e",
   "metadata": {},
   "outputs": [],
   "source": [
    "import pyro\n",
    "import pyro.optim as optim\n",
    "from pyro.infer import SVI, Trace_ELBO\n",
    "\n",
    "# Assume model and guide are already defined, as above\n",
    "\n",
    "optimizer = optim.ClippedAdam({\"lr\": 1e-2, \"clip_norm\": 5.0})\n",
    "\n",
    "svi = SVI(\n",
    "    model=model,\n",
    "    guide=guide,\n",
    "    optim=optimizer,\n",
    "    loss=Trace_ELBO(),\n",
    ")\n"
   ]
  },
  {
   "cell_type": "code",
   "execution_count": 7,
   "id": "bd2765d0",
   "metadata": {},
   "outputs": [
    {
     "name": "stderr",
     "output_type": "stream",
     "text": [
      "\u001b[34m\u001b[1mwandb\u001b[0m: Currently logged in as: \u001b[33mjhaberbe\u001b[0m (\u001b[33mkibr\u001b[0m) to \u001b[32mhttps://api.wandb.ai\u001b[0m. Use \u001b[1m`wandb login --relogin`\u001b[0m to force relogin\n"
     ]
    },
    {
     "data": {
      "text/html": [
       "Tracking run with wandb version 0.19.11"
      ],
      "text/plain": [
       "<IPython.core.display.HTML object>"
      ]
     },
     "metadata": {},
     "output_type": "display_data"
    },
    {
     "data": {
      "text/html": [
       "Run data is saved locally in <code>/home/jhaberbe/Projects/spatial-indian-buffet-process/notebook/wandb/run-20250509_190714-d5up3fzk</code>"
      ],
      "text/plain": [
       "<IPython.core.display.HTML object>"
      ]
     },
     "metadata": {},
     "output_type": "display_data"
    },
    {
     "data": {
      "text/html": [
       "Syncing run <strong><a href='https://wandb.ai/kibr/spatial-indian-buffet-process/runs/d5up3fzk' target=\"_blank\">99-15-2</a></strong> to <a href='https://wandb.ai/kibr/spatial-indian-buffet-process' target=\"_blank\">Weights & Biases</a> (<a href='https://wandb.me/developer-guide' target=\"_blank\">docs</a>)<br>"
      ],
      "text/plain": [
       "<IPython.core.display.HTML object>"
      ]
     },
     "metadata": {},
     "output_type": "display_data"
    },
    {
     "data": {
      "text/html": [
       " View project at <a href='https://wandb.ai/kibr/spatial-indian-buffet-process' target=\"_blank\">https://wandb.ai/kibr/spatial-indian-buffet-process</a>"
      ],
      "text/plain": [
       "<IPython.core.display.HTML object>"
      ]
     },
     "metadata": {},
     "output_type": "display_data"
    },
    {
     "data": {
      "text/html": [
       " View run at <a href='https://wandb.ai/kibr/spatial-indian-buffet-process/runs/d5up3fzk' target=\"_blank\">https://wandb.ai/kibr/spatial-indian-buffet-process/runs/d5up3fzk</a>"
      ],
      "text/plain": [
       "<IPython.core.display.HTML object>"
      ]
     },
     "metadata": {},
     "output_type": "display_data"
    },
    {
     "name": "stdout",
     "output_type": "stream",
     "text": [
      "[0] ELBO loss: 1602721.21\n",
      "[100] ELBO loss: 1057602.05\n",
      "[200] ELBO loss: 907353.53\n",
      "[300] ELBO loss: 924047.84\n",
      "[400] ELBO loss: 861359.60\n",
      "[500] ELBO loss: 804087.37\n",
      "[600] ELBO loss: 836117.88\n",
      "[700] ELBO loss: 948845.20\n",
      "[800] ELBO loss: 813364.17\n"
     ]
    },
    {
     "ename": "KeyboardInterrupt",
     "evalue": "",
     "output_type": "error",
     "traceback": [
      "\u001b[31m---------------------------------------------------------------------------\u001b[39m",
      "\u001b[31mKeyboardInterrupt\u001b[39m                         Traceback (most recent call last)",
      "\u001b[36mCell\u001b[39m\u001b[36m \u001b[39m\u001b[32mIn[7]\u001b[39m\u001b[32m, line 10\u001b[39m\n\u001b[32m      7\u001b[39m wandb.init(project=\u001b[33m\"\u001b[39m\u001b[33mspatial-indian-buffet-process\u001b[39m\u001b[33m\"\u001b[39m, name=\u001b[33m\"\u001b[39m\u001b[33m99-15-2\u001b[39m\u001b[33m\"\u001b[39m)\n\u001b[32m      9\u001b[39m \u001b[38;5;28;01mfor\u001b[39;00m step \u001b[38;5;129;01min\u001b[39;00m \u001b[38;5;28mrange\u001b[39m(num_steps):\n\u001b[32m---> \u001b[39m\u001b[32m10\u001b[39m     loss = \u001b[43msvi\u001b[49m\u001b[43m.\u001b[49m\u001b[43mstep\u001b[49m\u001b[43m(\u001b[49m\u001b[43mlocs\u001b[49m\u001b[43m,\u001b[49m\u001b[43m \u001b[49m\u001b[43mX\u001b[49m\u001b[43m,\u001b[49m\u001b[43m \u001b[49m\u001b[43mfolder\u001b[49m\u001b[43m,\u001b[49m\u001b[43m \u001b[49m\u001b[43msize_factor\u001b[49m\u001b[43m,\u001b[49m\u001b[43m \u001b[49m\u001b[32;43m1\u001b[39;49m\u001b[43m,\u001b[49m\u001b[43m \u001b[49m\u001b[43mK\u001b[49m\u001b[43m=\u001b[49m\u001b[32;43m10\u001b[39;49m\u001b[43m)\u001b[49m\n\u001b[32m     11\u001b[39m     wandb.log({\n\u001b[32m     12\u001b[39m         \u001b[33m\"\u001b[39m\u001b[33mloss\u001b[39m\u001b[33m\"\u001b[39m: loss,\n\u001b[32m     13\u001b[39m         \u001b[33m\"\u001b[39m\u001b[33maverage_logit\u001b[39m\u001b[33m\"\u001b[39m: \u001b[38;5;28mdict\u001b[39m(pyro.get_param_store())[\u001b[33m\"\u001b[39m\u001b[33mz_logits\u001b[39m\u001b[33m\"\u001b[39m].mean().item(),\n\u001b[32m     14\u001b[39m         \u001b[33m\"\u001b[39m\u001b[33mpercentage_above_zero\u001b[39m\u001b[33m\"\u001b[39m: (\u001b[38;5;28mdict\u001b[39m(pyro.get_param_store())[\u001b[33m\"\u001b[39m\u001b[33mz_logits\u001b[39m\u001b[33m\"\u001b[39m] > \u001b[32m0\u001b[39m).float().mean().item(),\n\u001b[32m     15\u001b[39m     })\n\u001b[32m     16\u001b[39m     \u001b[38;5;28;01mif\u001b[39;00m step % \u001b[32m100\u001b[39m == \u001b[32m0\u001b[39m:\n",
      "\u001b[36mFile \u001b[39m\u001b[32m~/Projects/spatial-indian-buffet-process/.venv/lib/python3.13/site-packages/pyro/infer/svi.py:145\u001b[39m, in \u001b[36mSVI.step\u001b[39m\u001b[34m(self, *args, **kwargs)\u001b[39m\n\u001b[32m    143\u001b[39m \u001b[38;5;66;03m# get loss and compute gradients\u001b[39;00m\n\u001b[32m    144\u001b[39m \u001b[38;5;28;01mwith\u001b[39;00m poutine.trace(param_only=\u001b[38;5;28;01mTrue\u001b[39;00m) \u001b[38;5;28;01mas\u001b[39;00m param_capture:\n\u001b[32m--> \u001b[39m\u001b[32m145\u001b[39m     loss = \u001b[38;5;28;43mself\u001b[39;49m\u001b[43m.\u001b[49m\u001b[43mloss_and_grads\u001b[49m\u001b[43m(\u001b[49m\u001b[38;5;28;43mself\u001b[39;49m\u001b[43m.\u001b[49m\u001b[43mmodel\u001b[49m\u001b[43m,\u001b[49m\u001b[43m \u001b[49m\u001b[38;5;28;43mself\u001b[39;49m\u001b[43m.\u001b[49m\u001b[43mguide\u001b[49m\u001b[43m,\u001b[49m\u001b[43m \u001b[49m\u001b[43m*\u001b[49m\u001b[43margs\u001b[49m\u001b[43m,\u001b[49m\u001b[43m \u001b[49m\u001b[43m*\u001b[49m\u001b[43m*\u001b[49m\u001b[43mkwargs\u001b[49m\u001b[43m)\u001b[49m\n\u001b[32m    147\u001b[39m params = \u001b[38;5;28mset\u001b[39m(\n\u001b[32m    148\u001b[39m     site[\u001b[33m\"\u001b[39m\u001b[33mvalue\u001b[39m\u001b[33m\"\u001b[39m].unconstrained() \u001b[38;5;28;01mfor\u001b[39;00m site \u001b[38;5;129;01min\u001b[39;00m param_capture.trace.nodes.values()\n\u001b[32m    149\u001b[39m )\n\u001b[32m    151\u001b[39m \u001b[38;5;66;03m# actually perform gradient steps\u001b[39;00m\n\u001b[32m    152\u001b[39m \u001b[38;5;66;03m# torch.optim objects gets instantiated for any params that haven't been seen yet\u001b[39;00m\n",
      "\u001b[36mFile \u001b[39m\u001b[32m~/Projects/spatial-indian-buffet-process/.venv/lib/python3.13/site-packages/pyro/infer/trace_elbo.py:140\u001b[39m, in \u001b[36mTrace_ELBO.loss_and_grads\u001b[39m\u001b[34m(self, model, guide, *args, **kwargs)\u001b[39m\n\u001b[32m    138\u001b[39m loss = \u001b[32m0.0\u001b[39m\n\u001b[32m    139\u001b[39m \u001b[38;5;66;03m# grab a trace from the generator\u001b[39;00m\n\u001b[32m--> \u001b[39m\u001b[32m140\u001b[39m \u001b[43m\u001b[49m\u001b[38;5;28;43;01mfor\u001b[39;49;00m\u001b[43m \u001b[49m\u001b[43mmodel_trace\u001b[49m\u001b[43m,\u001b[49m\u001b[43m \u001b[49m\u001b[43mguide_trace\u001b[49m\u001b[43m \u001b[49m\u001b[38;5;129;43;01min\u001b[39;49;00m\u001b[43m \u001b[49m\u001b[38;5;28;43mself\u001b[39;49m\u001b[43m.\u001b[49m\u001b[43m_get_traces\u001b[49m\u001b[43m(\u001b[49m\u001b[43mmodel\u001b[49m\u001b[43m,\u001b[49m\u001b[43m \u001b[49m\u001b[43mguide\u001b[49m\u001b[43m,\u001b[49m\u001b[43m \u001b[49m\u001b[43margs\u001b[49m\u001b[43m,\u001b[49m\u001b[43m \u001b[49m\u001b[43mkwargs\u001b[49m\u001b[43m)\u001b[49m\u001b[43m:\u001b[49m\n\u001b[32m    141\u001b[39m \u001b[43m    \u001b[49m\u001b[43mloss_particle\u001b[49m\u001b[43m,\u001b[49m\u001b[43m \u001b[49m\u001b[43msurrogate_loss_particle\u001b[49m\u001b[43m \u001b[49m\u001b[43m=\u001b[49m\u001b[43m \u001b[49m\u001b[38;5;28;43mself\u001b[39;49m\u001b[43m.\u001b[49m\u001b[43m_differentiable_loss_particle\u001b[49m\u001b[43m(\u001b[49m\n\u001b[32m    142\u001b[39m \u001b[43m        \u001b[49m\u001b[43mmodel_trace\u001b[49m\u001b[43m,\u001b[49m\u001b[43m \u001b[49m\u001b[43mguide_trace\u001b[49m\n\u001b[32m    143\u001b[39m \u001b[43m    \u001b[49m\u001b[43m)\u001b[49m\n\u001b[32m    144\u001b[39m \u001b[43m    \u001b[49m\u001b[43mloss\u001b[49m\u001b[43m \u001b[49m\u001b[43m+\u001b[49m\u001b[43m=\u001b[49m\u001b[43m \u001b[49m\u001b[43mloss_particle\u001b[49m\u001b[43m \u001b[49m\u001b[43m/\u001b[49m\u001b[43m \u001b[49m\u001b[38;5;28;43mself\u001b[39;49m\u001b[43m.\u001b[49m\u001b[43mnum_particles\u001b[49m\n",
      "\u001b[36mFile \u001b[39m\u001b[32m~/Projects/spatial-indian-buffet-process/.venv/lib/python3.13/site-packages/pyro/infer/elbo.py:237\u001b[39m, in \u001b[36mELBO._get_traces\u001b[39m\u001b[34m(self, model, guide, args, kwargs)\u001b[39m\n\u001b[32m    235\u001b[39m \u001b[38;5;28;01melse\u001b[39;00m:\n\u001b[32m    236\u001b[39m     \u001b[38;5;28;01mfor\u001b[39;00m i \u001b[38;5;129;01min\u001b[39;00m \u001b[38;5;28mrange\u001b[39m(\u001b[38;5;28mself\u001b[39m.num_particles):\n\u001b[32m--> \u001b[39m\u001b[32m237\u001b[39m         \u001b[38;5;28;01myield\u001b[39;00m \u001b[38;5;28;43mself\u001b[39;49m\u001b[43m.\u001b[49m\u001b[43m_get_trace\u001b[49m\u001b[43m(\u001b[49m\u001b[43mmodel\u001b[49m\u001b[43m,\u001b[49m\u001b[43m \u001b[49m\u001b[43mguide\u001b[49m\u001b[43m,\u001b[49m\u001b[43m \u001b[49m\u001b[43margs\u001b[49m\u001b[43m,\u001b[49m\u001b[43m \u001b[49m\u001b[43mkwargs\u001b[49m\u001b[43m)\u001b[49m\n",
      "\u001b[36mFile \u001b[39m\u001b[32m~/Projects/spatial-indian-buffet-process/.venv/lib/python3.13/site-packages/pyro/infer/trace_elbo.py:57\u001b[39m, in \u001b[36mTrace_ELBO._get_trace\u001b[39m\u001b[34m(self, model, guide, args, kwargs)\u001b[39m\n\u001b[32m     52\u001b[39m \u001b[38;5;28;01mdef\u001b[39;00m\u001b[38;5;250m \u001b[39m\u001b[34m_get_trace\u001b[39m(\u001b[38;5;28mself\u001b[39m, model, guide, args, kwargs):\n\u001b[32m     53\u001b[39m \u001b[38;5;250m    \u001b[39m\u001b[33;03m\"\"\"\u001b[39;00m\n\u001b[32m     54\u001b[39m \u001b[33;03m    Returns a single trace from the guide, and the model that is run\u001b[39;00m\n\u001b[32m     55\u001b[39m \u001b[33;03m    against it.\u001b[39;00m\n\u001b[32m     56\u001b[39m \u001b[33;03m    \"\"\"\u001b[39;00m\n\u001b[32m---> \u001b[39m\u001b[32m57\u001b[39m     model_trace, guide_trace = \u001b[43mget_importance_trace\u001b[49m\u001b[43m(\u001b[49m\n\u001b[32m     58\u001b[39m \u001b[43m        \u001b[49m\u001b[33;43m\"\u001b[39;49m\u001b[33;43mflat\u001b[39;49m\u001b[33;43m\"\u001b[39;49m\u001b[43m,\u001b[49m\u001b[43m \u001b[49m\u001b[38;5;28;43mself\u001b[39;49m\u001b[43m.\u001b[49m\u001b[43mmax_plate_nesting\u001b[49m\u001b[43m,\u001b[49m\u001b[43m \u001b[49m\u001b[43mmodel\u001b[49m\u001b[43m,\u001b[49m\u001b[43m \u001b[49m\u001b[43mguide\u001b[49m\u001b[43m,\u001b[49m\u001b[43m \u001b[49m\u001b[43margs\u001b[49m\u001b[43m,\u001b[49m\u001b[43m \u001b[49m\u001b[43mkwargs\u001b[49m\n\u001b[32m     59\u001b[39m \u001b[43m    \u001b[49m\u001b[43m)\u001b[49m\n\u001b[32m     60\u001b[39m     \u001b[38;5;28;01mif\u001b[39;00m is_validation_enabled():\n\u001b[32m     61\u001b[39m         check_if_enumerated(guide_trace)\n",
      "\u001b[36mFile \u001b[39m\u001b[32m~/Projects/spatial-indian-buffet-process/.venv/lib/python3.13/site-packages/pyro/infer/enum.py:65\u001b[39m, in \u001b[36mget_importance_trace\u001b[39m\u001b[34m(graph_type, max_plate_nesting, model, guide, args, kwargs, detach)\u001b[39m\n\u001b[32m     63\u001b[39m     \u001b[38;5;28;01mif\u001b[39;00m detach:\n\u001b[32m     64\u001b[39m         guide_trace.detach_()\n\u001b[32m---> \u001b[39m\u001b[32m65\u001b[39m     model_trace = \u001b[43mpoutine\u001b[49m\u001b[43m.\u001b[49m\u001b[43mtrace\u001b[49m\u001b[43m(\u001b[49m\n\u001b[32m     66\u001b[39m \u001b[43m        \u001b[49m\u001b[43mpoutine\u001b[49m\u001b[43m.\u001b[49m\u001b[43mreplay\u001b[49m\u001b[43m(\u001b[49m\u001b[43mmodel\u001b[49m\u001b[43m,\u001b[49m\u001b[43m \u001b[49m\u001b[43mtrace\u001b[49m\u001b[43m=\u001b[49m\u001b[43mguide_trace\u001b[49m\u001b[43m)\u001b[49m\u001b[43m,\u001b[49m\u001b[43m \u001b[49m\u001b[43mgraph_type\u001b[49m\u001b[43m=\u001b[49m\u001b[43mgraph_type\u001b[49m\n\u001b[32m     67\u001b[39m \u001b[43m    \u001b[49m\u001b[43m)\u001b[49m\u001b[43m.\u001b[49m\u001b[43mget_trace\u001b[49m\u001b[43m(\u001b[49m\u001b[43m*\u001b[49m\u001b[43margs\u001b[49m\u001b[43m,\u001b[49m\u001b[43m \u001b[49m\u001b[43m*\u001b[49m\u001b[43m*\u001b[49m\u001b[43mkwargs\u001b[49m\u001b[43m)\u001b[49m\n\u001b[32m     69\u001b[39m \u001b[38;5;28;01mif\u001b[39;00m is_validation_enabled():\n\u001b[32m     70\u001b[39m     check_model_guide_match(model_trace, guide_trace, max_plate_nesting)\n",
      "\u001b[36mFile \u001b[39m\u001b[32m~/Projects/spatial-indian-buffet-process/.venv/lib/python3.13/site-packages/pyro/poutine/trace_messenger.py:216\u001b[39m, in \u001b[36mTraceHandler.get_trace\u001b[39m\u001b[34m(self, *args, **kwargs)\u001b[39m\n\u001b[32m    208\u001b[39m \u001b[38;5;28;01mdef\u001b[39;00m\u001b[38;5;250m \u001b[39m\u001b[34mget_trace\u001b[39m(\u001b[38;5;28mself\u001b[39m, *args, **kwargs) -> Trace:\n\u001b[32m    209\u001b[39m \u001b[38;5;250m    \u001b[39m\u001b[33;03m\"\"\"\u001b[39;00m\n\u001b[32m    210\u001b[39m \u001b[33;03m    :returns: data structure\u001b[39;00m\n\u001b[32m    211\u001b[39m \u001b[33;03m    :rtype: pyro.poutine.Trace\u001b[39;00m\n\u001b[32m   (...)\u001b[39m\u001b[32m    214\u001b[39m \u001b[33;03m    Calls this poutine and returns its trace instead of the function's return value.\u001b[39;00m\n\u001b[32m    215\u001b[39m \u001b[33;03m    \"\"\"\u001b[39;00m\n\u001b[32m--> \u001b[39m\u001b[32m216\u001b[39m     \u001b[38;5;28;43mself\u001b[39;49m\u001b[43m(\u001b[49m\u001b[43m*\u001b[49m\u001b[43margs\u001b[49m\u001b[43m,\u001b[49m\u001b[43m \u001b[49m\u001b[43m*\u001b[49m\u001b[43m*\u001b[49m\u001b[43mkwargs\u001b[49m\u001b[43m)\u001b[49m\n\u001b[32m    217\u001b[39m     \u001b[38;5;28;01mreturn\u001b[39;00m \u001b[38;5;28mself\u001b[39m.msngr.get_trace()\n",
      "\u001b[36mFile \u001b[39m\u001b[32m~/Projects/spatial-indian-buffet-process/.venv/lib/python3.13/site-packages/pyro/poutine/trace_messenger.py:191\u001b[39m, in \u001b[36mTraceHandler.__call__\u001b[39m\u001b[34m(self, *args, **kwargs)\u001b[39m\n\u001b[32m    187\u001b[39m \u001b[38;5;28mself\u001b[39m.msngr.trace.add_node(\n\u001b[32m    188\u001b[39m     \u001b[33m\"\u001b[39m\u001b[33m_INPUT\u001b[39m\u001b[33m\"\u001b[39m, name=\u001b[33m\"\u001b[39m\u001b[33m_INPUT\u001b[39m\u001b[33m\"\u001b[39m, \u001b[38;5;28mtype\u001b[39m=\u001b[33m\"\u001b[39m\u001b[33margs\u001b[39m\u001b[33m\"\u001b[39m, args=args, kwargs=kwargs\n\u001b[32m    189\u001b[39m )\n\u001b[32m    190\u001b[39m \u001b[38;5;28;01mtry\u001b[39;00m:\n\u001b[32m--> \u001b[39m\u001b[32m191\u001b[39m     ret = \u001b[38;5;28;43mself\u001b[39;49m\u001b[43m.\u001b[49m\u001b[43mfn\u001b[49m\u001b[43m(\u001b[49m\u001b[43m*\u001b[49m\u001b[43margs\u001b[49m\u001b[43m,\u001b[49m\u001b[43m \u001b[49m\u001b[43m*\u001b[49m\u001b[43m*\u001b[49m\u001b[43mkwargs\u001b[49m\u001b[43m)\u001b[49m\n\u001b[32m    192\u001b[39m \u001b[38;5;28;01mexcept\u001b[39;00m (\u001b[38;5;167;01mValueError\u001b[39;00m, \u001b[38;5;167;01mRuntimeError\u001b[39;00m) \u001b[38;5;28;01mas\u001b[39;00m e:\n\u001b[32m    193\u001b[39m     exc_type, exc_value, traceback = sys.exc_info()\n",
      "\u001b[36mFile \u001b[39m\u001b[32m~/Projects/spatial-indian-buffet-process/.venv/lib/python3.13/site-packages/pyro/poutine/messenger.py:32\u001b[39m, in \u001b[36m_context_wrap\u001b[39m\u001b[34m(context, fn, *args, **kwargs)\u001b[39m\n\u001b[32m     25\u001b[39m \u001b[38;5;28;01mdef\u001b[39;00m\u001b[38;5;250m \u001b[39m\u001b[34m_context_wrap\u001b[39m(\n\u001b[32m     26\u001b[39m     context: \u001b[33m\"\u001b[39m\u001b[33mMessenger\u001b[39m\u001b[33m\"\u001b[39m,\n\u001b[32m     27\u001b[39m     fn: Callable,\n\u001b[32m     28\u001b[39m     *args: Any,\n\u001b[32m     29\u001b[39m     **kwargs: Any,\n\u001b[32m     30\u001b[39m ) -> Any:\n\u001b[32m     31\u001b[39m     \u001b[38;5;28;01mwith\u001b[39;00m context:\n\u001b[32m---> \u001b[39m\u001b[32m32\u001b[39m         \u001b[38;5;28;01mreturn\u001b[39;00m \u001b[43mfn\u001b[49m\u001b[43m(\u001b[49m\u001b[43m*\u001b[49m\u001b[43margs\u001b[49m\u001b[43m,\u001b[49m\u001b[43m \u001b[49m\u001b[43m*\u001b[49m\u001b[43m*\u001b[49m\u001b[43mkwargs\u001b[49m\u001b[43m)\u001b[49m\n",
      "\u001b[36mCell\u001b[39m\u001b[36m \u001b[39m\u001b[32mIn[4]\u001b[39m\u001b[32m, line 47\u001b[39m, in \u001b[36mmodel\u001b[39m\u001b[34m(s, y, folder_ids, size_factors, num_folders, K)\u001b[39m\n\u001b[32m     42\u001b[39m cov = kernel(s).evaluate() * (\u001b[32m1\u001b[39m / tau)\n\u001b[32m     43\u001b[39m \u001b[38;5;28;01mwith\u001b[39;00m pyro.plate(\u001b[33m\"\u001b[39m\u001b[33mfeatures\u001b[39m\u001b[33m\"\u001b[39m, K):\n\u001b[32m     44\u001b[39m     \u001b[38;5;66;03m# Use Independent to properly handle batch dimensions\u001b[39;00m\n\u001b[32m     45\u001b[39m     f_k = pyro.sample(\n\u001b[32m     46\u001b[39m         \u001b[33m\"\u001b[39m\u001b[33mf_k\u001b[39m\u001b[33m\"\u001b[39m,\n\u001b[32m---> \u001b[39m\u001b[32m47\u001b[39m         \u001b[43mdist\u001b[49m\u001b[43m.\u001b[49m\u001b[43mMultivariateNormal\u001b[49m\u001b[43m(\u001b[49m\n\u001b[32m     48\u001b[39m \u001b[43m            \u001b[49m\u001b[43mmu\u001b[49m\u001b[43m \u001b[49m\u001b[43m*\u001b[49m\u001b[43m \u001b[49m\u001b[43mtorch\u001b[49m\u001b[43m.\u001b[49m\u001b[43mones\u001b[49m\u001b[43m(\u001b[49m\u001b[43mN\u001b[49m\u001b[43m,\u001b[49m\u001b[43m \u001b[49m\u001b[43mdevice\u001b[49m\u001b[43m=\u001b[49m\u001b[43mdevice\u001b[49m\u001b[43m)\u001b[49m\u001b[43m,\u001b[49m\n\u001b[32m     49\u001b[39m \u001b[43m            \u001b[49m\u001b[43mcovariance_matrix\u001b[49m\u001b[43m=\u001b[49m\u001b[43mcov\u001b[49m\n\u001b[32m     50\u001b[39m \u001b[43m        \u001b[49m\u001b[43m)\u001b[49m\n\u001b[32m     51\u001b[39m     )\n\u001b[32m     54\u001b[39m \u001b[38;5;66;03m# 6. Stick-breaking (verify b_k handles devices)\u001b[39;00m\n\u001b[32m     55\u001b[39m pi = b_k(f_k.T.to(device))  \u001b[38;5;66;03m# Explicit device\u001b[39;00m\n",
      "\u001b[36mFile \u001b[39m\u001b[32m~/Projects/spatial-indian-buffet-process/.venv/lib/python3.13/site-packages/pyro/distributions/distribution.py:26\u001b[39m, in \u001b[36mDistributionMeta.__call__\u001b[39m\u001b[34m(cls, *args, **kwargs)\u001b[39m\n\u001b[32m     24\u001b[39m     \u001b[38;5;28;01mif\u001b[39;00m result \u001b[38;5;129;01mis\u001b[39;00m \u001b[38;5;129;01mnot\u001b[39;00m \u001b[38;5;28;01mNone\u001b[39;00m:\n\u001b[32m     25\u001b[39m         \u001b[38;5;28;01mreturn\u001b[39;00m result\n\u001b[32m---> \u001b[39m\u001b[32m26\u001b[39m \u001b[38;5;28;01mreturn\u001b[39;00m \u001b[38;5;28;43msuper\u001b[39;49m\u001b[43m(\u001b[49m\u001b[43m)\u001b[49m\u001b[43m.\u001b[49m\u001b[34;43m__call__\u001b[39;49m\u001b[43m(\u001b[49m\u001b[43m*\u001b[49m\u001b[43margs\u001b[49m\u001b[43m,\u001b[49m\u001b[43m \u001b[49m\u001b[43m*\u001b[49m\u001b[43m*\u001b[49m\u001b[43mkwargs\u001b[49m\u001b[43m)\u001b[49m\n",
      "\u001b[36mFile \u001b[39m\u001b[32m~/Projects/spatial-indian-buffet-process/.venv/lib/python3.13/site-packages/torch/distributions/multivariate_normal.py:182\u001b[39m, in \u001b[36mMultivariateNormal.__init__\u001b[39m\u001b[34m(self, loc, covariance_matrix, precision_matrix, scale_tril, validate_args)\u001b[39m\n\u001b[32m    179\u001b[39m \u001b[38;5;28mself\u001b[39m.loc = loc.expand(batch_shape + (-\u001b[32m1\u001b[39m,))\n\u001b[32m    181\u001b[39m event_shape = \u001b[38;5;28mself\u001b[39m.loc.shape[-\u001b[32m1\u001b[39m:]\n\u001b[32m--> \u001b[39m\u001b[32m182\u001b[39m \u001b[38;5;28;43msuper\u001b[39;49m\u001b[43m(\u001b[49m\u001b[43m)\u001b[49m\u001b[43m.\u001b[49m\u001b[34;43m__init__\u001b[39;49m\u001b[43m(\u001b[49m\u001b[43mbatch_shape\u001b[49m\u001b[43m,\u001b[49m\u001b[43m \u001b[49m\u001b[43mevent_shape\u001b[49m\u001b[43m,\u001b[49m\u001b[43m \u001b[49m\u001b[43mvalidate_args\u001b[49m\u001b[43m=\u001b[49m\u001b[43mvalidate_args\u001b[49m\u001b[43m)\u001b[49m\n\u001b[32m    184\u001b[39m \u001b[38;5;28;01mif\u001b[39;00m scale_tril \u001b[38;5;129;01mis\u001b[39;00m \u001b[38;5;129;01mnot\u001b[39;00m \u001b[38;5;28;01mNone\u001b[39;00m:\n\u001b[32m    185\u001b[39m     \u001b[38;5;28mself\u001b[39m._unbroadcasted_scale_tril = scale_tril\n",
      "\u001b[36mFile \u001b[39m\u001b[32m~/Projects/spatial-indian-buffet-process/.venv/lib/python3.13/site-packages/torch/distributions/distribution.py:71\u001b[39m, in \u001b[36mDistribution.__init__\u001b[39m\u001b[34m(self, batch_shape, event_shape, validate_args)\u001b[39m\n\u001b[32m     69\u001b[39m         value = \u001b[38;5;28mgetattr\u001b[39m(\u001b[38;5;28mself\u001b[39m, param)\n\u001b[32m     70\u001b[39m         valid = constraint.check(value)\n\u001b[32m---> \u001b[39m\u001b[32m71\u001b[39m         \u001b[38;5;28;01mif\u001b[39;00m \u001b[38;5;129;01mnot\u001b[39;00m torch._is_all_true(valid):\n\u001b[32m     72\u001b[39m             \u001b[38;5;28;01mraise\u001b[39;00m \u001b[38;5;167;01mValueError\u001b[39;00m(\n\u001b[32m     73\u001b[39m                 \u001b[33mf\u001b[39m\u001b[33m\"\u001b[39m\u001b[33mExpected parameter \u001b[39m\u001b[38;5;132;01m{\u001b[39;00mparam\u001b[38;5;132;01m}\u001b[39;00m\u001b[33m \u001b[39m\u001b[33m\"\u001b[39m\n\u001b[32m     74\u001b[39m                 \u001b[33mf\u001b[39m\u001b[33m\"\u001b[39m\u001b[33m(\u001b[39m\u001b[38;5;132;01m{\u001b[39;00m\u001b[38;5;28mtype\u001b[39m(value).\u001b[34m__name__\u001b[39m\u001b[38;5;132;01m}\u001b[39;00m\u001b[33m of shape \u001b[39m\u001b[38;5;132;01m{\u001b[39;00m\u001b[38;5;28mtuple\u001b[39m(value.shape)\u001b[38;5;132;01m}\u001b[39;00m\u001b[33m) \u001b[39m\u001b[33m\"\u001b[39m\n\u001b[32m   (...)\u001b[39m\u001b[32m     77\u001b[39m                 \u001b[33mf\u001b[39m\u001b[33m\"\u001b[39m\u001b[33mbut found invalid values:\u001b[39m\u001b[38;5;130;01m\\n\u001b[39;00m\u001b[38;5;132;01m{\u001b[39;00mvalue\u001b[38;5;132;01m}\u001b[39;00m\u001b[33m\"\u001b[39m\n\u001b[32m     78\u001b[39m             )\n\u001b[32m     79\u001b[39m \u001b[38;5;28msuper\u001b[39m().\u001b[34m__init__\u001b[39m()\n",
      "\u001b[31mKeyboardInterrupt\u001b[39m: "
     ]
    }
   ],
   "source": [
    "num_steps = 100_000\n",
    "losses = []\n",
    "\n",
    "pyro.clear_param_store()\n",
    "\n",
    "import wandb\n",
    "wandb.init(project=\"spatial-indian-buffet-process\", name=\"99-15-2\")\n",
    "\n",
    "for step in range(num_steps):\n",
    "    loss = svi.step(locs, X, folder, size_factor, 1, K=10)\n",
    "    wandb.log({\n",
    "        \"loss\": loss,\n",
    "        \"average_logit\": dict(pyro.get_param_store())[\"z_logits\"].mean().item(),\n",
    "        \"percentage_above_zero\": (dict(pyro.get_param_store())[\"z_logits\"] > 0).float().mean().item(),\n",
    "    })\n",
    "    if step % 100 == 0:\n",
    "        print(f\"[{step}] ELBO loss: {loss:.2f}\")\n"
   ]
  },
  {
   "cell_type": "code",
   "execution_count": null,
   "id": "d9d0d58c",
   "metadata": {},
   "outputs": [],
   "source": []
  }
 ],
 "metadata": {
  "kernelspec": {
   "display_name": ".venv",
   "language": "python",
   "name": "python3"
  },
  "language_info": {
   "codemirror_mode": {
    "name": "ipython",
    "version": 3
   },
   "file_extension": ".py",
   "mimetype": "text/x-python",
   "name": "python",
   "nbconvert_exporter": "python",
   "pygments_lexer": "ipython3",
   "version": "3.13.3"
  }
 },
 "nbformat": 4,
 "nbformat_minor": 5
}
